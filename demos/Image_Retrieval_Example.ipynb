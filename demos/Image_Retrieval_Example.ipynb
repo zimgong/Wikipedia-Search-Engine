{
 "cells": [
  {
   "cell_type": "code",
   "execution_count": 3,
   "id": "0d15fed5-2e86-408f-89bc-dfbde0453c65",
   "metadata": {},
   "outputs": [],
   "source": [
    "from sentence_transformers import SentenceTransformer, util\n",
    "from PIL import Image\n",
    "import requests"
   ]
  },
  {
   "cell_type": "code",
   "execution_count": 2,
   "id": "76a302d3-d96b-4dee-825c-8d4fe69080d7",
   "metadata": {},
   "outputs": [
    {
     "data": {
      "application/vnd.jupyter.widget-view+json": {
       "model_id": "1967837ba9854d5f9c64965d093d286f",
       "version_major": 2,
       "version_minor": 0
      },
      "text/plain": [
       "Downloading (…)d52eb/.gitattributes:   0%|          | 0.00/690 [00:00<?, ?B/s]"
      ]
     },
     "metadata": {},
     "output_type": "display_data"
    },
    {
     "data": {
      "application/vnd.jupyter.widget-view+json": {
       "model_id": "48596489d5ef475c86d3e3ee6dcb205d",
       "version_major": 2,
       "version_minor": 0
      },
      "text/plain": [
       "Downloading (…)LIPModel/config.json:   0%|          | 0.00/4.03k [00:00<?, ?B/s]"
      ]
     },
     "metadata": {},
     "output_type": "display_data"
    },
    {
     "data": {
      "application/vnd.jupyter.widget-view+json": {
       "model_id": "e39294c8fbae4a59b4aa2bf00051ac82",
       "version_major": 2,
       "version_minor": 0
      },
      "text/plain": [
       "Downloading (…)CLIPModel/merges.txt:   0%|          | 0.00/525k [00:00<?, ?B/s]"
      ]
     },
     "metadata": {},
     "output_type": "display_data"
    },
    {
     "data": {
      "application/vnd.jupyter.widget-view+json": {
       "model_id": "e03e37a06276437b93ad5e3a1f6c4f00",
       "version_major": 2,
       "version_minor": 0
      },
      "text/plain": [
       "Downloading (…)rocessor_config.json:   0%|          | 0.00/316 [00:00<?, ?B/s]"
      ]
     },
     "metadata": {},
     "output_type": "display_data"
    },
    {
     "data": {
      "application/vnd.jupyter.widget-view+json": {
       "model_id": "2ce96a0048d740ae9fe11eeda6e0f4c2",
       "version_major": 2,
       "version_minor": 0
      },
      "text/plain": [
       "Downloading pytorch_model.bin:   0%|          | 0.00/605M [00:00<?, ?B/s]"
      ]
     },
     "metadata": {},
     "output_type": "display_data"
    },
    {
     "data": {
      "application/vnd.jupyter.widget-view+json": {
       "model_id": "997a1c03471a40db9cd603d069ac522f",
       "version_major": 2,
       "version_minor": 0
      },
      "text/plain": [
       "Downloading (…)cial_tokens_map.json:   0%|          | 0.00/389 [00:00<?, ?B/s]"
      ]
     },
     "metadata": {},
     "output_type": "display_data"
    },
    {
     "data": {
      "application/vnd.jupyter.widget-view+json": {
       "model_id": "383b4c3d3efc4e64a390f45997c8920a",
       "version_major": 2,
       "version_minor": 0
      },
      "text/plain": [
       "Downloading (…)okenizer_config.json:   0%|          | 0.00/604 [00:00<?, ?B/s]"
      ]
     },
     "metadata": {},
     "output_type": "display_data"
    },
    {
     "data": {
      "application/vnd.jupyter.widget-view+json": {
       "model_id": "5d5ed525df0e42abb0c1efad357807f2",
       "version_major": 2,
       "version_minor": 0
      },
      "text/plain": [
       "Downloading (…)CLIPModel/vocab.json:   0%|          | 0.00/961k [00:00<?, ?B/s]"
      ]
     },
     "metadata": {},
     "output_type": "display_data"
    },
    {
     "data": {
      "application/vnd.jupyter.widget-view+json": {
       "model_id": "fc78347d47354d73b5a16960c4d91309",
       "version_major": 2,
       "version_minor": 0
      },
      "text/plain": [
       "Downloading (…)859cad52eb/README.md:   0%|          | 0.00/1.88k [00:00<?, ?B/s]"
      ]
     },
     "metadata": {},
     "output_type": "display_data"
    },
    {
     "data": {
      "application/vnd.jupyter.widget-view+json": {
       "model_id": "5b81e98767dc4d78977088ab908f270b",
       "version_major": 2,
       "version_minor": 0
      },
      "text/plain": [
       "Downloading (…)ce_transformers.json:   0%|          | 0.00/116 [00:00<?, ?B/s]"
      ]
     },
     "metadata": {},
     "output_type": "display_data"
    },
    {
     "data": {
      "application/vnd.jupyter.widget-view+json": {
       "model_id": "f518fa86401846daadf15f6159b0ac85",
       "version_major": 2,
       "version_minor": 0
      },
      "text/plain": [
       "Downloading (…)cad52eb/modules.json:   0%|          | 0.00/122 [00:00<?, ?B/s]"
      ]
     },
     "metadata": {},
     "output_type": "display_data"
    }
   ],
   "source": [
    "# Load the CLIP model, which knows how to embed both text *and* images!\n",
    "model = SentenceTransformer('clip-ViT-B-32')"
   ]
  },
  {
   "cell_type": "code",
   "execution_count": 8,
   "id": "455eda65-9910-4359-b18b-8aaad2038f10",
   "metadata": {},
   "outputs": [],
   "source": [
    "def get_image(url):\n",
    "    return Image.open(requests.get(url, stream=True).raw)\n",
    "\n",
    "# It's a dog\n",
    "dog_img_emb = model.encode(get_image('https://live.staticflickr.com/2109/2203669161_da6400d66f_b.jpg'))\n",
    "\n",
    "# It's Ann Arbor\n",
    "a2_url = 'https://upload.wikimedia.org/wikipedia/commons/thumb/9/91/Ann_Arbor_Skyline_2021.jpg/640px-Ann_Arbor_Skyline_2021.jpg'\n",
    "a2_img_emb = model.encode(get_image(a2_url))"
   ]
  },
  {
   "cell_type": "code",
   "execution_count": 9,
   "id": "3276eeab-ce3f-4738-95dd-c56311733da5",
   "metadata": {},
   "outputs": [],
   "source": [
    "#Encode text descriptions\n",
    "text_emb = model.encode(['A dog standing on a sidewalk', 'Late lunch with friends', 'A picture of Ann Arbor at night'])"
   ]
  },
  {
   "cell_type": "code",
   "execution_count": 11,
   "id": "75f84586-3ec3-4a43-be53-296d2981e07e",
   "metadata": {},
   "outputs": [
    {
     "name": "stdout",
     "output_type": "stream",
     "text": [
      "tensor([[26.3228, 20.1940, 18.3339]])\n"
     ]
    }
   ],
   "source": [
    "# Rank the dog picture according to our queries\n",
    "cos_scores = util.cos_sim(dog_img_emb, text_emb)\n",
    "print(cos_scores)"
   ]
  },
  {
   "cell_type": "code",
   "execution_count": 12,
   "id": "613f3386-c728-46ec-b7e9-54672d275f9f",
   "metadata": {},
   "outputs": [
    {
     "name": "stdout",
     "output_type": "stream",
     "text": [
      "tensor([[0.1900, 0.1970, 0.2163]])\n"
     ]
    }
   ],
   "source": [
    "# Rank the city picture according to our queries\n",
    "cos_scores = util.cos_sim(a2_img_emb, text_emb)\n",
    "print(cos_scores)"
   ]
  }
 ],
 "metadata": {
  "kernelspec": {
   "display_name": "Python 3 (ipykernel)",
   "language": "python",
   "name": "python3"
  },
  "language_info": {
   "codemirror_mode": {
    "name": "ipython",
    "version": 3
   },
   "file_extension": ".py",
   "mimetype": "text/x-python",
   "name": "python",
   "nbconvert_exporter": "python",
   "pygments_lexer": "ipython3",
   "version": "3.11.5"
  }
 },
 "nbformat": 4,
 "nbformat_minor": 5
}
