{
 "cells": [
  {
   "cell_type": "code",
   "execution_count": 34,
   "metadata": {},
   "outputs": [],
   "source": [
    "import gzip\n",
    "import json\n",
    "import jsonlines\n",
    "import matplotlib.pyplot as plt\n",
    "import pandas as pd\n",
    "import seaborn as sns\n",
    "from time import time\n",
    "from tqdm import tqdm\n",
    "\n",
    "from document_preprocessor import Doc2QueryAugmenter"
   ]
  },
  {
   "cell_type": "code",
   "execution_count": 35,
   "metadata": {},
   "outputs": [],
   "source": [
    "DRIVE_PATH = '../data/'\n",
    "CACHE_PATH = '../cache/'\n",
    "DATASET_PATH = DRIVE_PATH + 'wikipedia_200k_dataset.jsonl.gz'\n",
    "MAX_DOCS = 100\n",
    "TEXT_KEY = 'text'"
   ]
  },
  {
   "cell_type": "code",
   "execution_count": 36,
   "metadata": {},
   "outputs": [
    {
     "name": "stderr",
     "output_type": "stream",
     "text": [
      "100%|██████████| 100/100 [00:00<00:00, 1860.29it/s]\n"
     ]
    }
   ],
   "source": [
    "# Load texts\n",
    "texts = []\n",
    "if DATASET_PATH.endswith('.jsonl.gz'):\n",
    "    dataset_file = gzip.open(DATASET_PATH, 'rt')\n",
    "elif DATASET_PATH.endswith('.jsonl'):\n",
    "    dataset_file = open(DATASET_PATH, 'r')\n",
    "else:\n",
    "    raise ValueError('Unknown file format: %s' % DATASET_PATH)\n",
    "with jsonlines.Reader(dataset_file) as reader:\n",
    "    if MAX_DOCS == -1:\n",
    "        MAX_DOCS = 200000\n",
    "    for _ in tqdm(range(MAX_DOCS)):\n",
    "        sample = reader.read()\n",
    "        texts.append(sample[TEXT_KEY])"
   ]
  },
  {
   "cell_type": "code",
   "execution_count": 37,
   "metadata": {},
   "outputs": [],
   "source": [
    "def generate_query(texts, d2q, prefix_prompt):\n",
    "    queries = []\n",
    "    time_list = []\n",
    "    for text in tqdm(texts):\n",
    "        start_time = time()\n",
    "        if prefix_prompt is None:\n",
    "            queries.append(d2q.get_queries(text, n_queries=1))\n",
    "        else:\n",
    "            queries.append(d2q.get_queries(text, n_queries=1, prefix_prompt=prefix_prompt))\n",
    "        time_list.append(time() - start_time)\n",
    "    return queries, time_list"
   ]
  },
  {
   "cell_type": "code",
   "execution_count": 38,
   "metadata": {},
   "outputs": [
    {
     "name": "stderr",
     "output_type": "stream",
     "text": [
      "Special tokens have been added in the vocabulary, make sure the associated word embeddings are fine-tuned or trained.\n"
     ]
    }
   ],
   "source": [
    "d2q = Doc2QueryAugmenter()"
   ]
  },
  {
   "cell_type": "code",
   "execution_count": 39,
   "metadata": {},
   "outputs": [
    {
     "name": "stderr",
     "output_type": "stream",
     "text": [
      "100%|██████████| 100/100 [00:44<00:00,  2.24it/s]\n"
     ]
    }
   ],
   "source": [
    "queries_msmarco, time_msmarco = generate_query(texts, d2q, None)"
   ]
  },
  {
   "cell_type": "code",
   "execution_count": 40,
   "metadata": {},
   "outputs": [],
   "source": [
    "with open(CACHE_PATH + 'queries_msmarco.jsonl', 'w') as f:\n",
    "    for query in queries_msmarco:\n",
    "        f.write(json.dumps(query) + '\\n')"
   ]
  },
  {
   "cell_type": "code",
   "execution_count": 41,
   "metadata": {},
   "outputs": [
    {
     "name": "stderr",
     "output_type": "stream",
     "text": [
      "Special tokens have been added in the vocabulary, make sure the associated word embeddings are fine-tuned or trained.\n"
     ]
    }
   ],
   "source": [
    "d2q = Doc2QueryAugmenter('google/flan-t5-small')"
   ]
  },
  {
   "cell_type": "code",
   "execution_count": 42,
   "metadata": {},
   "outputs": [
    {
     "name": "stderr",
     "output_type": "stream",
     "text": [
      "100%|██████████| 100/100 [00:25<00:00,  3.94it/s]\n"
     ]
    }
   ],
   "source": [
    "queries_flan_small, time_flan_small = generate_query(texts, d2q, 'Generate a query for the following text: ')"
   ]
  },
  {
   "cell_type": "code",
   "execution_count": 43,
   "metadata": {},
   "outputs": [],
   "source": [
    "with open(CACHE_PATH + 'queries_flan_small.jsonl', 'w') as f:\n",
    "    for query in queries_flan_small:\n",
    "        f.write(json.dumps(query) + '\\n')"
   ]
  },
  {
   "cell_type": "code",
   "execution_count": 44,
   "metadata": {},
   "outputs": [
    {
     "name": "stderr",
     "output_type": "stream",
     "text": [
      "Special tokens have been added in the vocabulary, make sure the associated word embeddings are fine-tuned or trained.\n"
     ]
    }
   ],
   "source": [
    "d2q = Doc2QueryAugmenter('google/flan-t5-base')"
   ]
  },
  {
   "cell_type": "code",
   "execution_count": 45,
   "metadata": {},
   "outputs": [
    {
     "name": "stderr",
     "output_type": "stream",
     "text": [
      "100%|██████████| 100/100 [00:54<00:00,  1.85it/s]\n"
     ]
    }
   ],
   "source": [
    "queries_flan_base, time_flan_base = generate_query(texts, d2q, 'Generate a query for the following text: ')"
   ]
  },
  {
   "cell_type": "code",
   "execution_count": 46,
   "metadata": {},
   "outputs": [],
   "source": [
    "with open(CACHE_PATH + 'queries_flan_base.jsonl', 'w') as f:\n",
    "    for query in queries_flan_base:\n",
    "        f.write(json.dumps(query) + '\\n')"
   ]
  },
  {
   "cell_type": "code",
   "execution_count": 47,
   "metadata": {},
   "outputs": [
    {
     "name": "stderr",
     "output_type": "stream",
     "text": [
      "Special tokens have been added in the vocabulary, make sure the associated word embeddings are fine-tuned or trained.\n"
     ]
    }
   ],
   "source": [
    "d2q = Doc2QueryAugmenter('google/flan-t5-large')"
   ]
  },
  {
   "cell_type": "code",
   "execution_count": 48,
   "metadata": {},
   "outputs": [
    {
     "name": "stderr",
     "output_type": "stream",
     "text": [
      "100%|██████████| 100/100 [02:38<00:00,  1.59s/it]\n"
     ]
    }
   ],
   "source": [
    "queries_flan_large, time_flan_large = generate_query(texts, d2q, 'Generate a query for the following text: ')"
   ]
  },
  {
   "cell_type": "code",
   "execution_count": 49,
   "metadata": {},
   "outputs": [],
   "source": [
    "with open(CACHE_PATH + 'queries_flan_large.jsonl', 'w') as f:\n",
    "    for query in queries_flan_large:\n",
    "        f.write(json.dumps(query) + '\\n')"
   ]
  },
  {
   "cell_type": "code",
   "execution_count": 50,
   "metadata": {},
   "outputs": [],
   "source": [
    "df = pd.DataFrame({\n",
    "    'msmarco': time_msmarco,\n",
    "    'flan_small': time_flan_small,\n",
    "    'flan_base': time_flan_base,\n",
    "    'flan_large': time_flan_large\n",
    "    })"
   ]
  },
  {
   "cell_type": "code",
   "execution_count": 51,
   "metadata": {},
   "outputs": [
    {
     "data": {
      "image/png": "[encoded data removed]",
      "text/plain": [
       "<Figure size 640x480 with 1 Axes>"
      ]
     },
     "metadata": {},
     "output_type": "display_data"
    }
   ],
   "source": [
    "plot = sns.boxplot(data=df, hue_order=['msmarco', 'flan_small', 'flan_base', 'flan_large'], palette=\"pastel\")\n",
    "plot.set_ylabel('Time (s)')\n",
    "plot.set_xlabel('Model')\n",
    "plot.set_title('Time per Query Generation')\n",
    "plt.show()"
   ]
  },
  {
   "cell_type": "code",
   "execution_count": 52,
   "metadata": {},
   "outputs": [
    {
     "name": "stdout",
     "output_type": "stream",
     "text": [
      "Average time to generate a query with msmarco: 0.45\n",
      "Average time to generate a query with flan-small: 0.25\n",
      "Average time to generate a query with flan-base: 0.54\n",
      "Average time to generate a query with flan-large: 1.58\n"
     ]
    }
   ],
   "source": [
    "print('Average time to generate a query with msmarco: %.2f' % df['msmarco'].mean())\n",
    "print('Average time to generate a query with flan-small: %.2f' % df['flan_small'].mean())\n",
    "print('Average time to generate a query with flan-base: %.2f' % df['flan_base'].mean())\n",
    "print('Average time to generate a query with flan-large: %.2f' % df['flan_large'].mean())"
   ]
  }
 ],
 "metadata": {
  "kernelspec": {
   "display_name": "SI650",
   "language": "python",
   "name": "python3"
  },
  "language_info": {
   "codemirror_mode": {
    "name": "ipython",
    "version": 3
   },
   "file_extension": ".py",
   "mimetype": "text/x-python",
   "name": "python",
   "nbconvert_exporter": "python",
   "pygments_lexer": "ipython3",
   "version": "3.11.0"
  }
 },
 "nbformat": 4,
 "nbformat_minor": 2
}
