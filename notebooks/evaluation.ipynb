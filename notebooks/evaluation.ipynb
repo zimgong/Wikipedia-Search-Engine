{
 "cells": [
  {
   "cell_type": "code",
   "execution_count": 32,
   "metadata": {},
   "outputs": [],
   "source": [
    "import csv\n",
    "import gzip\n",
    "import json\n",
    "import jsonlines\n",
    "import os\n",
    "import pickle\n",
    "import matplotlib.pyplot as plt\n",
    "import numpy as np\n",
    "import pandas as pd\n",
    "import seaborn as sns\n",
    "from collections import Counter, defaultdict\n",
    "from tqdm import tqdm\n",
    "\n",
    "from document_preprocessor import RegexTokenizer\n",
    "from indexing import Indexer, IndexType\n",
    "from ranker import Ranker, BM25, PersonalizedBM25\n",
    "from network_features import NetworkFeatures\n",
    "from l2r import CrossEncoderScorer, L2RFeatureExtractor, L2RRanker\n",
    "from relevance import run_relevance_tests\n",
    "from vector_ranker import VectorRanker"
   ]
  },
  {
   "cell_type": "code",
   "execution_count": 2,
   "metadata": {},
   "outputs": [],
   "source": [
    "DRIVE_PATH = '../data/'\n",
    "CACHE_PATH = '../cache/'\n",
    "STOPWORD_PATH = DRIVE_PATH + 'stopwords.txt'\n",
    "DATASET_PATH = DRIVE_PATH + 'wikipedia_200k_dataset.jsonl.gz'\n",
    "EDGELIST_PATH = DRIVE_PATH + 'edgelist.csv.gz'\n",
    "NETWORK_STATS_PATH = DRIVE_PATH + 'network_stats.csv'\n",
    "DOC2QUERY_PATH = DRIVE_PATH + 'doc2query.csv'\n",
    "MAIN_INDEX = 'main_index_augmented'\n",
    "TITLE_INDEX = 'title_index'\n",
    "RELEVANCE_TRAIN_DATA = DRIVE_PATH + 'hw4_relevance.train.csv'\n",
    "ENCODED_DOCUMENT_EMBEDDINGS_NPY_DATA = DRIVE_PATH + \\\n",
    "    'wiki-200k-vecs.msmarco-MiniLM-L12-cos-v5.npy'\n",
    "PERSON_ATTRIBUTES = DRIVE_PATH + 'person-attributes.csv'\n",
    "DOCUMENT_IDS = DRIVE_PATH + 'document-ids.txt'\n",
    "PERSONALIZATION_PATH = DRIVE_PATH + 'personalization.jsonl'\n",
    "RELEVANCE_TEST_DATA = DRIVE_PATH + 'hw4_relevance.test.csv'"
   ]
  },
  {
   "cell_type": "code",
   "execution_count": 3,
   "metadata": {},
   "outputs": [
    {
     "data": {
      "text/plain": [
       "'Stopwords collected 543'"
      ]
     },
     "execution_count": 3,
     "metadata": {},
     "output_type": "execute_result"
    }
   ],
   "source": [
    "# Load in the stopwords\n",
    "\n",
    "stopwords = set()\n",
    "with open(STOPWORD_PATH, 'r', encoding='utf-8') as file:\n",
    "    for stopword in file:\n",
    "        stopwords.add(stopword.strip())\n",
    "f'Stopwords collected {len(stopwords)}'"
   ]
  },
  {
   "cell_type": "code",
   "execution_count": 4,
   "metadata": {},
   "outputs": [
    {
     "data": {
      "text/plain": [
       "'Document categories collected'"
      ]
     },
     "execution_count": 4,
     "metadata": {},
     "output_type": "execute_result"
    }
   ],
   "source": [
    "# Get the list of categories for each page (either compute it or load the pre-computed list)\n",
    "file_path = CACHE_PATH + 'docid_to_categories.pkl'\n",
    "if not os.path.exists(file_path):\n",
    "    docid_to_categories = {}\n",
    "    with gzip.open(DATASET_PATH, 'rt') as file:\n",
    "        for line in tqdm(file, total=200_000):\n",
    "            document = json.loads(line)\n",
    "            docid_to_categories[document['docid']] = document['categories']\n",
    "    pickle.dump(docid_to_categories, open(file_path, 'wb'))\n",
    "else:\n",
    "    docid_to_categories = pickle.load(open(file_path, 'rb'))\n",
    "f'Document categories collected'"
   ]
  },
  {
   "cell_type": "code",
   "execution_count": 5,
   "metadata": {},
   "outputs": [
    {
     "name": "stderr",
     "output_type": "stream",
     "text": [
      "  0%|          | 0/200000 [00:00<?, ?it/s]"
     ]
    },
    {
     "name": "stderr",
     "output_type": "stream",
     "text": [
      "100%|██████████| 200000/200000 [00:00<00:00, 562934.13it/s]\n"
     ]
    },
    {
     "name": "stdout",
     "output_type": "stream",
     "text": [
      "saw 118 categories\n"
     ]
    }
   ],
   "source": [
    "# Get or pre-compute the list of categories at least the minimum number of times (specified in the homework)\n",
    "category_counts = Counter()\n",
    "for cats in tqdm(docid_to_categories.values(), total=len(docid_to_categories)):\n",
    "    for c in cats:\n",
    "        category_counts[c] += 1\n",
    "recognized_categories = set(\n",
    "    [cat for cat, count in category_counts.items() if count >= 1000])\n",
    "print(\"saw %d categories\" % len(recognized_categories))\n",
    "\n",
    "file_path = CACHE_PATH + 'doc_category_info.pkl'\n",
    "if not os.path.exists(file_path):\n",
    "    # Map each document to the smallert set of categories that occur frequently\n",
    "    doc_category_info = {}\n",
    "    for docid, cats in tqdm(docid_to_categories.items(), total=len(docid_to_categories)):\n",
    "        valid_cats = [c for c in cats if c in recognized_categories]\n",
    "        doc_category_info[docid] = valid_cats\n",
    "    pickle.dump(doc_category_info, open(file_path, 'wb'))\n",
    "else:\n",
    "    doc_category_info = pickle.load(open(file_path, 'rb'))"
   ]
  },
  {
   "cell_type": "code",
   "execution_count": 6,
   "metadata": {},
   "outputs": [
    {
     "name": "stderr",
     "output_type": "stream",
     "text": [
      "600001it [00:00, 878426.84it/s]                            \n"
     ]
    }
   ],
   "source": [
    "doc_augment_dict = defaultdict(lambda: [])\n",
    "with open(DOC2QUERY_PATH, 'r', encoding='utf-8') as file:\n",
    "    dataset = csv.reader(file)\n",
    "    for idx, row in tqdm(enumerate(dataset), total=600_000):\n",
    "        if idx == 0:\n",
    "            continue\n",
    "        doc_augment_dict[int(row[0])].append(row[2])"
   ]
  },
  {
   "cell_type": "code",
   "execution_count": 7,
   "metadata": {},
   "outputs": [
    {
     "name": "stdout",
     "output_type": "stream",
     "text": [
      "Indexing...\n"
     ]
    },
    {
     "name": "stderr",
     "output_type": "stream",
     "text": [
      "100%|██████████| 200000/200000 [02:48<00:00, 1183.82it/s]\n"
     ]
    },
    {
     "name": "stdout",
     "output_type": "stream",
     "text": [
      "Indexing...\n"
     ]
    },
    {
     "name": "stderr",
     "output_type": "stream",
     "text": [
      "100%|██████████| 200000/200000 [00:16<00:00, 12033.14it/s]\n"
     ]
    }
   ],
   "source": [
    "# Load or build Inverted Indices for the documents' main text and titles\n",
    "#\n",
    "# Estiamted times:\n",
    "#    Document text token counting: 4 minutes\n",
    "#    Document text indexing: 5 minutes\n",
    "#    Title text indexing: 30 seconds\n",
    "preprocessor = RegexTokenizer('\\w+')\n",
    "\n",
    "# Creating and saving the index\n",
    "\n",
    "# main_index_path = CACHE_PATH + MAIN_INDEX\n",
    "main_index = Indexer.create_index(\n",
    "    IndexType.InvertedIndex, DATASET_PATH, preprocessor,\n",
    "    stopwords, 50, doc_augment_dict=doc_augment_dict)\n",
    "# main_index.save(main_index_path)\n",
    "                \n",
    "# title_index_path = CACHE_PATH + TITLE_INDEX\n",
    "title_index = Indexer.create_index(             \n",
    "    IndexType.InvertedIndex, DATASET_PATH, preprocessor,\n",
    "    stopwords, 2, text_key='title')\n",
    "# title_index.save(title_index_path)"
   ]
  },
  {
   "cell_type": "code",
   "execution_count": 8,
   "metadata": {},
   "outputs": [
    {
     "name": "stderr",
     "output_type": "stream",
     "text": [
      "9605it [00:00, 51618.05it/s]\n"
     ]
    }
   ],
   "source": [
    "with open(RELEVANCE_TRAIN_DATA, 'r', encoding='utf-8') as file:\n",
    "    data = csv.reader(file)\n",
    "    train_queries = []\n",
    "    train_docs = []\n",
    "    for idx, row in tqdm(enumerate(data)):\n",
    "        if idx == 0:\n",
    "            continue\n",
    "        if row[0] not in train_queries:\n",
    "            train_queries.append(row[0])\n",
    "        if row[2] not in train_docs:\n",
    "            train_docs.append(row[2])"
   ]
  },
  {
   "cell_type": "code",
   "execution_count": 9,
   "metadata": {},
   "outputs": [],
   "source": [
    "# create the raw text dictionary by going through the wiki dataset\n",
    "# this dictionary should store only the first 500 characters of the raw documents text\n",
    "\n",
    "file_path = CACHE_PATH + 'raw_text_dict_train.pkl'\n",
    "if not os.path.exists(file_path):\n",
    "    raw_text_dict = {}\n",
    "    file = gzip.open(DATASET_PATH, 'rt')\n",
    "    with jsonlines.Reader(file) as reader:\n",
    "        for _ in tqdm(range(200_000)):\n",
    "            try:\n",
    "                data = reader.read()\n",
    "                if str(data['docid']) in train_docs:\n",
    "                    raw_text_dict[int(data['docid'])] = data['text'][:500]\n",
    "            except EOFError:\n",
    "                break\n",
    "    pickle.dump(raw_text_dict, open(file_path, 'wb'))\n",
    "else:\n",
    "    raw_text_dict = pickle.load(open(file_path, 'rb'))"
   ]
  },
  {
   "cell_type": "code",
   "execution_count": 10,
   "metadata": {},
   "outputs": [
    {
     "data": {
      "text/plain": [
       "'Network stats collection 999841'"
      ]
     },
     "execution_count": 10,
     "metadata": {},
     "output_type": "execute_result"
    }
   ],
   "source": [
    "network_features = {}\n",
    "# Get or load the network statistics for the Wikipedia link network\n",
    "\n",
    "if not os.path.exists(NETWORK_STATS_PATH):\n",
    "    nf = NetworkFeatures()\n",
    "    print('loading network')\n",
    "    graph = nf.load_network(EDGELIST_PATH, total_edges=92650947)\n",
    "    print('getting stats')\n",
    "    net_feats_df = nf.get_all_network_statistics(graph)\n",
    "    graph = None\n",
    "    print('Saving')\n",
    "    net_feats_df.to_csv(NETWORK_STATS_PATH, index=False)\n",
    "\n",
    "    print(\"converting to dict format\")\n",
    "    network_features = defaultdict(dict)\n",
    "    for i, row in tqdm(net_feats_df.iterrows(), total=len(net_feats_df)):\n",
    "        for col in ['pagerank', 'hub_score', 'authority_score']:\n",
    "            network_features[row['docid']][col] = row[col]\n",
    "    net_feats_df = None\n",
    "else:\n",
    "    with open(NETWORK_STATS_PATH, 'r', encoding='utf-8') as file:\n",
    "        for idx, line in enumerate(file):\n",
    "            if idx == 0:\n",
    "                continue\n",
    "            else:\n",
    "                # the indexes may change depending on your CSV\n",
    "                splits = line.strip().split(',')\n",
    "                network_features[int(splits[0])] = {\n",
    "                    'pagerank': float(splits[1]),\n",
    "                    'authority_score': float(splits[2]),\n",
    "                    'hub_score': float(splits[3])\n",
    "                }\n",
    "f'Network stats collection {len(network_features)}'"
   ]
  },
  {
   "cell_type": "code",
   "execution_count": 11,
   "metadata": {},
   "outputs": [],
   "source": [
    "# Create the feature extractor. This will be used by both pipelines\n",
    "cescorer = CrossEncoderScorer(raw_text_dict)\n",
    "fe = L2RFeatureExtractor(main_index, title_index, doc_category_info,\n",
    "                          preprocessor, stopwords, recognized_categories,\n",
    "                          network_features, cescorer)"
   ]
  },
  {
   "cell_type": "code",
   "execution_count": 12,
   "metadata": {},
   "outputs": [
    {
     "name": "stdout",
     "output_type": "stream",
     "text": [
      "Loading training data...\n",
      "Training model...\n",
      "[LightGBM] [Info] Auto-choosing row-wise multi-threading, the overhead of testing was 0.001958 seconds.\n",
      "You can set `force_row_wise=true` to remove the overhead.\n",
      "And if memory is not enough, you can set `force_col_wise=true`.\n",
      "[LightGBM] [Info] Total Bins 2641\n",
      "[LightGBM] [Info] Number of data points in the train set: 9604, number of used features: 123\n"
     ]
    }
   ],
   "source": [
    "bm25 = BM25(main_index)\n",
    "ranker = Ranker(main_index, preprocessor, stopwords, bm25, raw_text_dict)\n",
    "\n",
    "pipeline = L2RRanker(main_index, title_index,\n",
    "                       preprocessor, stopwords, ranker, fe)\n",
    "pipeline.train(RELEVANCE_TRAIN_DATA, 'model')"
   ]
  },
  {
   "cell_type": "code",
   "execution_count": 13,
   "metadata": {},
   "outputs": [],
   "source": [
    "scores = []"
   ]
  },
  {
   "cell_type": "code",
   "execution_count": 14,
   "metadata": {},
   "outputs": [
    {
     "name": "stdout",
     "output_type": "stream",
     "text": [
      "Running relevance tests...\n"
     ]
    },
    {
     "name": "stderr",
     "output_type": "stream",
     "text": [
      "  0%|          | 0/37 [00:00<?, ?it/s]"
     ]
    },
    {
     "name": "stderr",
     "output_type": "stream",
     "text": [
      "100%|██████████| 37/37 [01:35<00:00,  2.57s/it]"
     ]
    },
    {
     "name": "stdout",
     "output_type": "stream",
     "text": [
      "MAP:  [0.025, 0.05, 0.19285714285714287, 0, 0, 0.26, 0.01, 0, 0.02, 0, 0.11333333333333333, 0, 0, 0.0125, 0, 0, 0.03333333333333333, 0, 0.04857142857142857, 0, 0.16666666666666666, 0.11666666666666665, 0, 0, 0.06666666666666667, 0, 0, 0, 0, 0, 0, 0.05, 0, 0, 0, 0.15, 0]\n",
      "NDCG:  [0.16720121225264192, 0.1912049197383063, 0.40771619304648515, 0.0, 0.0, 0.35738444023216115, 0.0586666388908508, 0.0, 0.13279625411320248, 0.0, 0.44115113246165355, 0.04541743105845887, 0.0, 0.0716120549175052, 0.0, 0.06617289012360779, 0.16326880032415683, 0.0, 0.24276828655853022, 0.0, 0.3293683421236114, 0.3403003929241778, 0.0613262049089608, 0.07242198498924948, 0.21928535165731325, 0.0, 0.0, 0.0, 0.054633798952207324, 0.0, 0.0, 0.2578062004518628, 0.0, 0.0, 0.17487644530347446, 0.3040695800485996, 0.13058065054168094]\n",
      "BM25 scores: {'map': 0.03555662805662805, 'ndcg': 0.11594673528699186, 'map_list': [0.025, 0.05, 0.19285714285714287, 0, 0, 0.26, 0.01, 0, 0.02, 0, 0.11333333333333333, 0, 0, 0.0125, 0, 0, 0.03333333333333333, 0, 0.04857142857142857, 0, 0.16666666666666666, 0.11666666666666665, 0, 0, 0.06666666666666667, 0, 0, 0, 0, 0, 0, 0.05, 0, 0, 0, 0.15, 0], 'ndcg_list': [0.16720121225264192, 0.1912049197383063, 0.40771619304648515, 0.0, 0.0, 0.35738444023216115, 0.0586666388908508, 0.0, 0.13279625411320248, 0.0, 0.44115113246165355, 0.04541743105845887, 0.0, 0.0716120549175052, 0.0, 0.06617289012360779, 0.16326880032415683, 0.0, 0.24276828655853022, 0.0, 0.3293683421236114, 0.3403003929241778, 0.0613262049089608, 0.07242198498924948, 0.21928535165731325, 0.0, 0.0, 0.0, 0.054633798952207324, 0.0, 0.0, 0.2578062004518628, 0.0, 0.0, 0.17487644530347446, 0.3040695800485996, 0.13058065054168094]}\n",
      "MAP:  0.03555662805662805\n",
      "NDCG:  0.11594673528699186\n"
     ]
    },
    {
     "name": "stderr",
     "output_type": "stream",
     "text": [
      "\n"
     ]
    }
   ],
   "source": [
    "scores.append(run_relevance_tests(RELEVANCE_TEST_DATA, ranker))\n",
    "print(f'BM25 scores: {scores[0]}')\n",
    "print(\"MAP: \", scores[0]['map'])\n",
    "print(\"NDCG: \", scores[0]['ndcg'])"
   ]
  },
  {
   "cell_type": "code",
   "execution_count": 15,
   "metadata": {},
   "outputs": [
    {
     "name": "stdout",
     "output_type": "stream",
     "text": [
      "Running relevance tests...\n"
     ]
    },
    {
     "name": "stderr",
     "output_type": "stream",
     "text": [
      "  0%|          | 0/37 [00:00<?, ?it/s]Asking to truncate to max_length but no maximum length is provided and the model has no predefined maximum length. Default to no truncation.\n",
      "100%|██████████| 37/37 [02:37<00:00,  4.26s/it]"
     ]
    },
    {
     "name": "stdout",
     "output_type": "stream",
     "text": [
      "MAP:  [0, 0, 0.025, 0, 0.05, 0.3571428571428571, 0.014285714285714285, 0, 0.02, 0, 0.0665079365079365, 0, 0, 0, 0, 0.075, 0, 0, 0, 0, 0.1, 0, 0, 0, 0.05, 0, 0, 0.1, 0.014285714285714285, 0, 0, 0.1, 0, 0, 0, 0.1, 0.0125]\n",
      "NDCG:  [0.15044598817525506, 0.024114774059504164, 0.12133927614758865, 0.0, 0.32809409741206513, 0.587523106887649, 0.06941992066371505, 0.0, 0.13279625411320248, 0.0, 0.25797972850121437, 0.0, 0.0, 0.0, 0.0, 0.4450994304378661, 0.0, 0.0, 0.0, 0.04462046518914338, 0.21888665798006005, 0.0, 0.04492063315887466, 0.0, 0.20342085232311144, 0.02138681585816852, 0.0, 0.19031326377064925, 0.07531155140665356, 0.0, 0.0, 0.2578062004518628, 0.0, 0.0, 0.453308352082741, 0.20271305336573306, 0.05075020367217313]\n",
      "BM25 scores: {'map': 0.029316816816816815, 'ndcg': 0.1048716385312765, 'map_list': [0, 0, 0.025, 0, 0.05, 0.3571428571428571, 0.014285714285714285, 0, 0.02, 0, 0.0665079365079365, 0, 0, 0, 0, 0.075, 0, 0, 0, 0, 0.1, 0, 0, 0, 0.05, 0, 0, 0.1, 0.014285714285714285, 0, 0, 0.1, 0, 0, 0, 0.1, 0.0125], 'ndcg_list': [0.15044598817525506, 0.024114774059504164, 0.12133927614758865, 0.0, 0.32809409741206513, 0.587523106887649, 0.06941992066371505, 0.0, 0.13279625411320248, 0.0, 0.25797972850121437, 0.0, 0.0, 0.0, 0.0, 0.4450994304378661, 0.0, 0.0, 0.0, 0.04462046518914338, 0.21888665798006005, 0.0, 0.04492063315887466, 0.0, 0.20342085232311144, 0.02138681585816852, 0.0, 0.19031326377064925, 0.07531155140665356, 0.0, 0.0, 0.2578062004518628, 0.0, 0.0, 0.453308352082741, 0.20271305336573306, 0.05075020367217313]}\n",
      "MAP:  0.029316816816816815\n",
      "NDCG:  0.1048716385312765\n"
     ]
    },
    {
     "name": "stderr",
     "output_type": "stream",
     "text": [
      "\n"
     ]
    }
   ],
   "source": [
    "scores.append(run_relevance_tests(RELEVANCE_TEST_DATA, pipeline))\n",
    "print(f'BM25 scores: {scores[1]}')\n",
    "print(\"MAP: \", scores[1]['map'])\n",
    "print(\"NDCG: \", scores[1]['ndcg'])"
   ]
  },
  {
   "cell_type": "code",
   "execution_count": 16,
   "metadata": {},
   "outputs": [],
   "source": [
    "# An initial ranking with VectorRanker with reranking done by LambdaMART optimizing NDCG\n",
    "with open(ENCODED_DOCUMENT_EMBEDDINGS_NPY_DATA, 'rb') as file:\n",
    "    encoded_docs = np.load(file)\n",
    "\n",
    "vector_ranker = VectorRanker('sentence-transformers/msmarco-MiniLM-L12-cos-v5',\n",
    "                             encoded_docs, list(main_index.document_metadata.keys()))\n",
    "pipeline.ranker = vector_ranker"
   ]
  },
  {
   "cell_type": "code",
   "execution_count": 17,
   "metadata": {},
   "outputs": [
    {
     "name": "stdout",
     "output_type": "stream",
     "text": [
      "Running relevance tests...\n"
     ]
    },
    {
     "name": "stderr",
     "output_type": "stream",
     "text": [
      "100%|██████████| 37/37 [02:44<00:00,  4.45s/it]"
     ]
    },
    {
     "name": "stdout",
     "output_type": "stream",
     "text": [
      "MAP:  [0, 0, 0, 0, 0.1, 0.275, 0.0125, 0, 0.02, 0, 0.01111111111111111, 0, 0, 0, 0, 0.1, 0, 0, 0, 0, 0.08333333333333333, 0, 0, 0, 0.1, 0, 0, 0.1, 0, 0, 0, 0, 0, 0, 0, 0.1, 0]\n",
      "NDCG:  [0.05709397913119477, 0.0, 0.0, 0.0, 0.35152534067883506, 0.4377205066724933, 0.06496211865470962, 0.0, 0.14843011901892328, 0.0, 0.11492845531283281, 0.0, 0.0, 0.0, 0.0, 0.31689265655728094, 0.0, 0.0, 0.0, 0.0, 0.30356357608583323, 0.0, 0.0, 0.0, 0.20342085232311144, 0.0, 0.0, 0.19031326377064925, 0.0, 0.0, 0.0, 0.0, 0.0, 0.0, 0.37983770989879656, 0.20271305336573306, 0.03806265275412985]\n",
      "BM25 scores: {'map': 0.02437687687687688, 'ndcg': 0.07593146714120333, 'map_list': [0, 0, 0, 0, 0.1, 0.275, 0.0125, 0, 0.02, 0, 0.01111111111111111, 0, 0, 0, 0, 0.1, 0, 0, 0, 0, 0.08333333333333333, 0, 0, 0, 0.1, 0, 0, 0.1, 0, 0, 0, 0, 0, 0, 0, 0.1, 0], 'ndcg_list': [0.05709397913119477, 0.0, 0.0, 0.0, 0.35152534067883506, 0.4377205066724933, 0.06496211865470962, 0.0, 0.14843011901892328, 0.0, 0.11492845531283281, 0.0, 0.0, 0.0, 0.0, 0.31689265655728094, 0.0, 0.0, 0.0, 0.0, 0.30356357608583323, 0.0, 0.0, 0.0, 0.20342085232311144, 0.0, 0.0, 0.19031326377064925, 0.0, 0.0, 0.0, 0.0, 0.0, 0.0, 0.37983770989879656, 0.20271305336573306, 0.03806265275412985]}\n",
      "MAP:  0.02437687687687688\n",
      "NDCG:  0.07593146714120333\n"
     ]
    },
    {
     "name": "stderr",
     "output_type": "stream",
     "text": [
      "\n"
     ]
    }
   ],
   "source": [
    "scores.append(run_relevance_tests(RELEVANCE_TEST_DATA, pipeline))\n",
    "print(f'BM25 scores: {scores[2]}')\n",
    "print(\"MAP: \", scores[2]['map'])\n",
    "print(\"NDCG: \", scores[2]['ndcg'])"
   ]
  },
  {
   "cell_type": "code",
   "execution_count": 18,
   "metadata": {},
   "outputs": [
    {
     "name": "stdout",
     "output_type": "stream",
     "text": [
      "Running relevance tests...\n"
     ]
    },
    {
     "name": "stderr",
     "output_type": "stream",
     "text": [
      "100%|██████████| 37/37 [03:43<00:00,  6.03s/it]"
     ]
    },
    {
     "name": "stdout",
     "output_type": "stream",
     "text": [
      "MAP:  [0, 0, 0, 0, 0.1, 0.275, 0.0125, 0, 0.03333333333333333, 0, 0.01111111111111111, 0, 0, 0, 0, 0.1, 0, 0, 0, 0, 0.08333333333333333, 0, 0, 0, 0.1, 0, 0, 0.1, 0, 0, 0, 0, 0, 0, 0, 0.1, 0]\n",
      "NDCG:  [0.05709397913119477, 0.0, 0.0, 0.0, 0.35152534067883506, 0.4377205066724933, 0.06496211865470962, 0.0, 0.1696889815282525, 0.0, 0.11492845531283281, 0.0, 0.0, 0.0, 0.0, 0.31689265655728094, 0.0, 0.0, 0.0, 0.0, 0.30356357608583323, 0.0, 0.0, 0.0, 0.20342085232311144, 0.0, 0.0, 0.19031326377064925, 0.0, 0.0, 0.0, 0.0, 0.0, 0.0, 0.41283902484683005, 0.20271305336573306, 0.03806265275412985]\n",
      "BM25 scores: {'map': 0.02473723723723724, 'ndcg': 0.07739795842383475, 'map_list': [0, 0, 0, 0, 0.1, 0.275, 0.0125, 0, 0.03333333333333333, 0, 0.01111111111111111, 0, 0, 0, 0, 0.1, 0, 0, 0, 0, 0.08333333333333333, 0, 0, 0, 0.1, 0, 0, 0.1, 0, 0, 0, 0, 0, 0, 0, 0.1, 0], 'ndcg_list': [0.05709397913119477, 0.0, 0.0, 0.0, 0.35152534067883506, 0.4377205066724933, 0.06496211865470962, 0.0, 0.1696889815282525, 0.0, 0.11492845531283281, 0.0, 0.0, 0.0, 0.0, 0.31689265655728094, 0.0, 0.0, 0.0, 0.0, 0.30356357608583323, 0.0, 0.0, 0.0, 0.20342085232311144, 0.0, 0.0, 0.19031326377064925, 0.0, 0.0, 0.0, 0.0, 0.0, 0.0, 0.41283902484683005, 0.20271305336573306, 0.03806265275412985]}\n",
      "MAP:  0.02473723723723724\n",
      "NDCG:  0.07739795842383475\n"
     ]
    },
    {
     "name": "stderr",
     "output_type": "stream",
     "text": [
      "\n"
     ]
    }
   ],
   "source": [
    "scores.append(run_relevance_tests(RELEVANCE_TEST_DATA, pipeline, 1, 0.9, 0.1))\n",
    "print(f'BM25 scores: {scores[3]}')\n",
    "print(\"MAP: \", scores[3]['map'])\n",
    "print(\"NDCG: \", scores[3]['ndcg'])"
   ]
  },
  {
   "cell_type": "code",
   "execution_count": 19,
   "metadata": {},
   "outputs": [
    {
     "name": "stdout",
     "output_type": "stream",
     "text": [
      "Running relevance tests...\n"
     ]
    },
    {
     "name": "stderr",
     "output_type": "stream",
     "text": [
      "100%|██████████| 37/37 [03:44<00:00,  6.07s/it]"
     ]
    },
    {
     "name": "stdout",
     "output_type": "stream",
     "text": [
      "MAP:  [0, 0, 0, 0, 0.1, 0.3, 0.01111111111111111, 0, 0.05, 0, 0.014285714285714285, 0, 0, 0, 0, 0.12, 0, 0, 0, 0, 0.11666666666666665, 0, 0, 0, 0.1, 0, 0, 0.1, 0, 0, 0, 0, 0, 0, 0, 0.1, 0]\n",
      "NDCG:  [0.07204458036731731, 0.0, 0.0, 0.0, 0.2386138890269565, 0.500700828153494, 0.06147980027144358, 0.0, 0.18423040552881773, 0.0, 0.14715055944239044, 0.0, 0.0, 0.0, 0.0, 0.4122868515866667, 0.0, 0.0, 0.0, 0.0, 0.3569887631594992, 0.0, 0.0, 0.0, 0.20342085232311144, 0.0, 0.0, 0.19031326377064925, 0.0, 0.0, 0.0, 0.0, 0.0, 0.0, 0.4171011469199944, 0.20271305336573306, 0.03806265275412985]\n",
      "BM25 scores: {'map': 0.027353067353067355, 'ndcg': 0.08175963909919469, 'map_list': [0, 0, 0, 0, 0.1, 0.3, 0.01111111111111111, 0, 0.05, 0, 0.014285714285714285, 0, 0, 0, 0, 0.12, 0, 0, 0, 0, 0.11666666666666665, 0, 0, 0, 0.1, 0, 0, 0.1, 0, 0, 0, 0, 0, 0, 0, 0.1, 0], 'ndcg_list': [0.07204458036731731, 0.0, 0.0, 0.0, 0.2386138890269565, 0.500700828153494, 0.06147980027144358, 0.0, 0.18423040552881773, 0.0, 0.14715055944239044, 0.0, 0.0, 0.0, 0.0, 0.4122868515866667, 0.0, 0.0, 0.0, 0.0, 0.3569887631594992, 0.0, 0.0, 0.0, 0.20342085232311144, 0.0, 0.0, 0.19031326377064925, 0.0, 0.0, 0.0, 0.0, 0.0, 0.0, 0.4171011469199944, 0.20271305336573306, 0.03806265275412985]}\n",
      "MAP:  0.027353067353067355\n",
      "NDCG:  0.08175963909919469\n"
     ]
    },
    {
     "name": "stderr",
     "output_type": "stream",
     "text": [
      "\n"
     ]
    }
   ],
   "source": [
    "scores.append(run_relevance_tests(RELEVANCE_TEST_DATA, pipeline, 1, 0.5, 0.5))\n",
    "print(f'BM25 scores: {scores[4]}')\n",
    "print(\"MAP: \", scores[4]['map'])\n",
    "print(\"NDCG: \", scores[4]['ndcg'])"
   ]
  },
  {
   "cell_type": "code",
   "execution_count": 20,
   "metadata": {},
   "outputs": [
    {
     "name": "stdout",
     "output_type": "stream",
     "text": [
      "Running relevance tests...\n"
     ]
    },
    {
     "name": "stderr",
     "output_type": "stream",
     "text": [
      "100%|██████████| 37/37 [03:44<00:00,  6.06s/it]"
     ]
    },
    {
     "name": "stdout",
     "output_type": "stream",
     "text": [
      "MAP:  [0, 0, 0, 0, 0.1, 0.3, 0, 0, 0.05, 0, 0.041666666666666664, 0, 0, 0, 0, 0.13333333333333333, 0, 0, 0, 0, 0, 0, 0, 0, 0.1, 0, 0, 0.1, 0.016666666666666666, 0, 0, 0, 0, 0, 0, 0.1, 0]\n",
      "NDCG:  [0.0, 0.0, 0.0, 0.0, 0.2386138890269565, 0.49866046558302285, 0.0, 0.0, 0.18423040552881773, 0.0, 0.2510409205704035, 0.0, 0.0, 0.0, 0.0, 0.43948347033847657, 0.0, 0.0, 0.0, 0.0, 0.0, 0.0, 0.0, 0.0, 0.20342085232311144, 0.0, 0.0, 0.19031326377064925, 0.08179084008773017, 0.0, 0.0, 0.0, 0.0, 0.0, 0.41470827434354435, 0.20271305336573306, 0.03806265275412985]\n",
      "BM25 scores: {'map': 0.025450450450450447, 'ndcg': 0.07413616453223175, 'map_list': [0, 0, 0, 0, 0.1, 0.3, 0, 0, 0.05, 0, 0.041666666666666664, 0, 0, 0, 0, 0.13333333333333333, 0, 0, 0, 0, 0, 0, 0, 0, 0.1, 0, 0, 0.1, 0.016666666666666666, 0, 0, 0, 0, 0, 0, 0.1, 0], 'ndcg_list': [0.0, 0.0, 0.0, 0.0, 0.2386138890269565, 0.49866046558302285, 0.0, 0.0, 0.18423040552881773, 0.0, 0.2510409205704035, 0.0, 0.0, 0.0, 0.0, 0.43948347033847657, 0.0, 0.0, 0.0, 0.0, 0.0, 0.0, 0.0, 0.0, 0.20342085232311144, 0.0, 0.0, 0.19031326377064925, 0.08179084008773017, 0.0, 0.0, 0.0, 0.0, 0.0, 0.41470827434354435, 0.20271305336573306, 0.03806265275412985]}\n",
      "MAP:  0.025450450450450447\n",
      "NDCG:  0.07413616453223175\n"
     ]
    },
    {
     "name": "stderr",
     "output_type": "stream",
     "text": [
      "\n"
     ]
    }
   ],
   "source": [
    "scores.append(run_relevance_tests(RELEVANCE_TEST_DATA, pipeline, 1, 0.1, 0.9))\n",
    "print(f'BM25 scores: {scores[5]}')\n",
    "print(\"MAP: \", scores[5]['map'])\n",
    "print(\"NDCG: \", scores[5]['ndcg'])"
   ]
  },
  {
   "cell_type": "code",
   "execution_count": 21,
   "metadata": {},
   "outputs": [
    {
     "name": "stdout",
     "output_type": "stream",
     "text": [
      "Running relevance tests...\n"
     ]
    },
    {
     "name": "stderr",
     "output_type": "stream",
     "text": [
      "100%|██████████| 37/37 [03:42<00:00,  6.02s/it]\n"
     ]
    },
    {
     "name": "stdout",
     "output_type": "stream",
     "text": [
      "MAP:  [0, 0, 0, 0, 0.1, 0.275, 0.0125, 0, 0.02, 0, 0.01111111111111111, 0, 0, 0, 0, 0.1, 0, 0, 0, 0, 0.08333333333333333, 0, 0, 0, 0.1, 0, 0, 0.1, 0, 0, 0, 0, 0, 0, 0, 0.1, 0]\n",
      "NDCG:  [0.10627205596906898, 0.0, 0.0, 0.0, 0.2386138890269565, 0.4377205066724933, 0.06496211865470962, 0.0, 0.14843011901892328, 0.0, 0.11492845531283281, 0.0, 0.0, 0.0, 0.0, 0.31689265655728094, 0.0, 0.0, 0.0, 0.0, 0.30356357608583323, 0.0, 0.0, 0.0, 0.20342085232311144, 0.0, 0.0, 0.19031326377064925, 0.0, 0.0, 0.0, 0.0, 0.0, 0.0, 0.37983770989879656, 0.20271305336573306, 0.03806265275412985]\n",
      "BM25 scores: {'map': 0.02437687687687688, 'ndcg': 0.07420894349758159, 'map_list': [0, 0, 0, 0, 0.1, 0.275, 0.0125, 0, 0.02, 0, 0.01111111111111111, 0, 0, 0, 0, 0.1, 0, 0, 0, 0, 0.08333333333333333, 0, 0, 0, 0.1, 0, 0, 0.1, 0, 0, 0, 0, 0, 0, 0, 0.1, 0], 'ndcg_list': [0.10627205596906898, 0.0, 0.0, 0.0, 0.2386138890269565, 0.4377205066724933, 0.06496211865470962, 0.0, 0.14843011901892328, 0.0, 0.11492845531283281, 0.0, 0.0, 0.0, 0.0, 0.31689265655728094, 0.0, 0.0, 0.0, 0.0, 0.30356357608583323, 0.0, 0.0, 0.0, 0.20342085232311144, 0.0, 0.0, 0.19031326377064925, 0.0, 0.0, 0.0, 0.0, 0.0, 0.0, 0.37983770989879656, 0.20271305336573306, 0.03806265275412985]}\n",
      "MAP:  0.02437687687687688\n",
      "NDCG:  0.07420894349758159\n",
      "Running relevance tests...\n"
     ]
    },
    {
     "name": "stderr",
     "output_type": "stream",
     "text": [
      "100%|██████████| 37/37 [03:47<00:00,  6.15s/it]\n"
     ]
    },
    {
     "name": "stdout",
     "output_type": "stream",
     "text": [
      "MAP:  [0, 0, 0, 0, 0.1, 0.275, 0.016666666666666666, 0, 0.03333333333333333, 0, 0.01, 0, 0, 0, 0.01111111111111111, 0.1, 0, 0, 0, 0, 0.025, 0, 0, 0, 0.1, 0, 0, 0.1, 0.016666666666666666, 0, 0, 0, 0, 0, 0, 0.1, 0]\n",
      "NDCG:  [0.07204458036731731, 0.0, 0.0, 0.0, 0.2386138890269565, 0.4377205066724933, 0.07539233389643339, 0.0, 0.16545459026055942, 0.0, 0.11203759807401387, 0.0, 0.0, 0.0, 0.05335804586747371, 0.31689265655728094, 0.0, 0.0, 0.0, 0.0, 0.10944332899003002, 0.0, 0.0, 0.0, 0.20342085232311144, 0.0, 0.0, 0.19031326377064925, 0.08179084008773017, 0.0, 0.0, 0.0, 0.0, 0.0, 0.4113289674896055, 0.20271305336573306, 0.03806265275412985]\n",
      "BM25 scores: {'map': 0.023993993993993996, 'ndcg': 0.07320505836495994, 'map_list': [0, 0, 0, 0, 0.1, 0.275, 0.016666666666666666, 0, 0.03333333333333333, 0, 0.01, 0, 0, 0, 0.01111111111111111, 0.1, 0, 0, 0, 0, 0.025, 0, 0, 0, 0.1, 0, 0, 0.1, 0.016666666666666666, 0, 0, 0, 0, 0, 0, 0.1, 0], 'ndcg_list': [0.07204458036731731, 0.0, 0.0, 0.0, 0.2386138890269565, 0.4377205066724933, 0.07539233389643339, 0.0, 0.16545459026055942, 0.0, 0.11203759807401387, 0.0, 0.0, 0.0, 0.05335804586747371, 0.31689265655728094, 0.0, 0.0, 0.0, 0.0, 0.10944332899003002, 0.0, 0.0, 0.0, 0.20342085232311144, 0.0, 0.0, 0.19031326377064925, 0.08179084008773017, 0.0, 0.0, 0.0, 0.0, 0.0, 0.4113289674896055, 0.20271305336573306, 0.03806265275412985]}\n",
      "MAP:  0.023993993993993996\n",
      "NDCG:  0.07320505836495994\n",
      "Running relevance tests...\n"
     ]
    },
    {
     "name": "stderr",
     "output_type": "stream",
     "text": [
      "100%|██████████| 37/37 [03:44<00:00,  6.06s/it]"
     ]
    },
    {
     "name": "stdout",
     "output_type": "stream",
     "text": [
      "MAP:  [0, 0, 0, 0, 0.1, 0.3, 0.016666666666666666, 0, 0.03333333333333333, 0, 0.01, 0, 0, 0, 0.01111111111111111, 0.12, 0, 0, 0.016666666666666666, 0, 0, 0, 0, 0, 0.1, 0, 0, 0.1, 0.016666666666666666, 0, 0, 0.01111111111111111, 0, 0, 0, 0.1, 0]\n",
      "NDCG:  [0.11418795826238955, 0.0, 0.0, 0.0, 0.2386138890269565, 0.49701217597997016, 0.07539233389643339, 0.0, 0.15783060299380178, 0.0, 0.11203759807401387, 0.0, 0.0, 0.0, 0.05335804586747371, 0.4122868515866667, 0.0, 0.0, 0.06110780562104336, 0.0, 0.0, 0.0, 0.0, 0.0, 0.20342085232311144, 0.0, 0.0, 0.19031326377064925, 0.08179084008773017, 0.0, 0.0, 0.08132880126014379, 0.0, 0.0, 0.4113289674896055, 0.20271305336573306, 0.03806265275412985]\n",
      "BM25 scores: {'map': 0.025285285285285283, 'ndcg': 0.07921042411783383, 'map_list': [0, 0, 0, 0, 0.1, 0.3, 0.016666666666666666, 0, 0.03333333333333333, 0, 0.01, 0, 0, 0, 0.01111111111111111, 0.12, 0, 0, 0.016666666666666666, 0, 0, 0, 0, 0, 0.1, 0, 0, 0.1, 0.016666666666666666, 0, 0, 0.01111111111111111, 0, 0, 0, 0.1, 0], 'ndcg_list': [0.11418795826238955, 0.0, 0.0, 0.0, 0.2386138890269565, 0.49701217597997016, 0.07539233389643339, 0.0, 0.15783060299380178, 0.0, 0.11203759807401387, 0.0, 0.0, 0.0, 0.05335804586747371, 0.4122868515866667, 0.0, 0.0, 0.06110780562104336, 0.0, 0.0, 0.0, 0.0, 0.0, 0.20342085232311144, 0.0, 0.0, 0.19031326377064925, 0.08179084008773017, 0.0, 0.0, 0.08132880126014379, 0.0, 0.0, 0.4113289674896055, 0.20271305336573306, 0.03806265275412985]}\n",
      "MAP:  0.025285285285285283\n",
      "NDCG:  0.07921042411783383\n"
     ]
    },
    {
     "name": "stderr",
     "output_type": "stream",
     "text": [
      "\n"
     ]
    }
   ],
   "source": [
    "scores.append(run_relevance_tests(RELEVANCE_TEST_DATA, pipeline, 5, 0.9, 0.1))\n",
    "print(f'BM25 scores: {scores[6]}')\n",
    "print(\"MAP: \", scores[6]['map'])\n",
    "print(\"NDCG: \", scores[6]['ndcg'])\n",
    "\n",
    "scores.append(run_relevance_tests(RELEVANCE_TEST_DATA, pipeline, 5, 0.5, 0.5))\n",
    "print(f'BM25 scores: {scores[7]}')\n",
    "print(\"MAP: \", scores[7]['map'])\n",
    "print(\"NDCG: \", scores[7]['ndcg'])\n",
    "\n",
    "scores.append(run_relevance_tests(RELEVANCE_TEST_DATA, pipeline, 5, 0.1, 0.9))\n",
    "print(f'BM25 scores: {scores[8]}')\n",
    "print(\"MAP: \", scores[8]['map'])\n",
    "print(\"NDCG: \", scores[8]['ndcg'])"
   ]
  },
  {
   "cell_type": "code",
   "execution_count": 22,
   "metadata": {},
   "outputs": [
    {
     "name": "stdout",
     "output_type": "stream",
     "text": [
      "Running relevance tests...\n"
     ]
    },
    {
     "name": "stderr",
     "output_type": "stream",
     "text": [
      "100%|██████████| 37/37 [03:43<00:00,  6.05s/it]\n"
     ]
    },
    {
     "name": "stdout",
     "output_type": "stream",
     "text": [
      "MAP:  [0, 0, 0, 0, 0.1, 0.275, 0.0125, 0, 0.02, 0, 0.01111111111111111, 0, 0, 0, 0, 0.1, 0, 0, 0, 0, 0.08333333333333333, 0, 0, 0, 0.1, 0, 0, 0.1, 0, 0, 0, 0, 0, 0, 0, 0.1, 0]\n",
      "NDCG:  [0.10627205596906898, 0.0, 0.0, 0.0, 0.2386138890269565, 0.4377205066724933, 0.06496211865470962, 0.0, 0.14843011901892328, 0.0, 0.11492845531283281, 0.0, 0.0, 0.0, 0.0, 0.31689265655728094, 0.0, 0.0, 0.0, 0.0, 0.30356357608583323, 0.0, 0.0, 0.0, 0.20342085232311144, 0.0, 0.0, 0.19031326377064925, 0.0, 0.0, 0.0, 0.0, 0.0, 0.0, 0.4113289674896055, 0.20271305336573306, 0.03806265275412985]\n",
      "BM25 scores: {'map': 0.02437687687687688, 'ndcg': 0.07506005856760345, 'map_list': [0, 0, 0, 0, 0.1, 0.275, 0.0125, 0, 0.02, 0, 0.01111111111111111, 0, 0, 0, 0, 0.1, 0, 0, 0, 0, 0.08333333333333333, 0, 0, 0, 0.1, 0, 0, 0.1, 0, 0, 0, 0, 0, 0, 0, 0.1, 0], 'ndcg_list': [0.10627205596906898, 0.0, 0.0, 0.0, 0.2386138890269565, 0.4377205066724933, 0.06496211865470962, 0.0, 0.14843011901892328, 0.0, 0.11492845531283281, 0.0, 0.0, 0.0, 0.0, 0.31689265655728094, 0.0, 0.0, 0.0, 0.0, 0.30356357608583323, 0.0, 0.0, 0.0, 0.20342085232311144, 0.0, 0.0, 0.19031326377064925, 0.0, 0.0, 0.0, 0.0, 0.0, 0.0, 0.4113289674896055, 0.20271305336573306, 0.03806265275412985]}\n",
      "MAP:  0.02437687687687688\n",
      "NDCG:  0.07506005856760345\n",
      "Running relevance tests...\n"
     ]
    },
    {
     "name": "stderr",
     "output_type": "stream",
     "text": [
      "100%|██████████| 37/37 [03:42<00:00,  6.02s/it]\n"
     ]
    },
    {
     "name": "stdout",
     "output_type": "stream",
     "text": [
      "MAP:  [0, 0, 0, 0, 0.1, 0.275, 0.02, 0, 0.05, 0, 0, 0, 0, 0, 0.01111111111111111, 0.1, 0, 0, 0, 0, 0, 0, 0, 0, 0.1, 0, 0, 0.1, 0.016666666666666666, 0, 0, 0, 0, 0, 0, 0.1, 0]\n",
      "NDCG:  [0.05709397913119477, 0.0, 0.0, 0.0, 0.2386138890269565, 0.4377205066724933, 0.08393298500209709, 0.0, 0.23768294269640358, 0.0, 0.051750662925253446, 0.0, 0.0, 0.0, 0.05335804586747371, 0.31689265655728094, 0.0, 0.0, 0.0, 0.0, 0.06566599739401802, 0.0, 0.0, 0.0, 0.20342085232311144, 0.0, 0.0, 0.19031326377064925, 0.08179084008773017, 0.0, 0.0, 0.0, 0.0, 0.0, 0.4113289674896055, 0.20271305336573306, 0.03806265275412985]\n",
      "BM25 scores: {'map': 0.023588588588588588, 'ndcg': 0.07217138635308461, 'map_list': [0, 0, 0, 0, 0.1, 0.275, 0.02, 0, 0.05, 0, 0, 0, 0, 0, 0.01111111111111111, 0.1, 0, 0, 0, 0, 0, 0, 0, 0, 0.1, 0, 0, 0.1, 0.016666666666666666, 0, 0, 0, 0, 0, 0, 0.1, 0], 'ndcg_list': [0.05709397913119477, 0.0, 0.0, 0.0, 0.2386138890269565, 0.4377205066724933, 0.08393298500209709, 0.0, 0.23768294269640358, 0.0, 0.051750662925253446, 0.0, 0.0, 0.0, 0.05335804586747371, 0.31689265655728094, 0.0, 0.0, 0.0, 0.0, 0.06566599739401802, 0.0, 0.0, 0.0, 0.20342085232311144, 0.0, 0.0, 0.19031326377064925, 0.08179084008773017, 0.0, 0.0, 0.0, 0.0, 0.0, 0.4113289674896055, 0.20271305336573306, 0.03806265275412985]}\n",
      "MAP:  0.023588588588588588\n",
      "NDCG:  0.07217138635308461\n",
      "Running relevance tests...\n"
     ]
    },
    {
     "name": "stderr",
     "output_type": "stream",
     "text": [
      "100%|██████████| 37/37 [03:47<00:00,  6.15s/it]"
     ]
    },
    {
     "name": "stdout",
     "output_type": "stream",
     "text": [
      "MAP:  [0, 0, 0, 0.014285714285714285, 0.1, 0.33999999999999997, 0.02, 0, 0.1, 0, 0.01, 0, 0, 0, 0.01111111111111111, 0.1, 0, 0, 0, 0, 0, 0, 0, 0, 0.1, 0, 0, 0.1, 0.016666666666666666, 0, 0, 0, 0, 0, 0, 0.1, 0]\n",
      "NDCG:  [0.07204458036731731, 0.0, 0.0, 0.06779095235709004, 0.2386138890269565, 0.5084701761735054, 0.08393298500209709, 0.0, 0.23768294269640358, 0.0, 0.11203759807401387, 0.0, 0.0, 0.0, 0.05335804586747371, 0.31689265655728094, 0.0, 0.0, 0.0, 0.0, 0.06566599739401802, 0.0, 0.0, 0.0, 0.20342085232311144, 0.0, 0.0, 0.19031326377064925, 0.08179084008773017, 0.0, 0.0, 0.0, 0.0, 0.0, 0.37983770989879656, 0.20271305336573306, 0.0163926922792914]\n",
      "BM25 scores: {'map': 0.027353067353067355, 'ndcg': 0.07651238473625589, 'map_list': [0, 0, 0, 0.014285714285714285, 0.1, 0.33999999999999997, 0.02, 0, 0.1, 0, 0.01, 0, 0, 0, 0.01111111111111111, 0.1, 0, 0, 0, 0, 0, 0, 0, 0, 0.1, 0, 0, 0.1, 0.016666666666666666, 0, 0, 0, 0, 0, 0, 0.1, 0], 'ndcg_list': [0.07204458036731731, 0.0, 0.0, 0.06779095235709004, 0.2386138890269565, 0.5084701761735054, 0.08393298500209709, 0.0, 0.23768294269640358, 0.0, 0.11203759807401387, 0.0, 0.0, 0.0, 0.05335804586747371, 0.31689265655728094, 0.0, 0.0, 0.0, 0.0, 0.06566599739401802, 0.0, 0.0, 0.0, 0.20342085232311144, 0.0, 0.0, 0.19031326377064925, 0.08179084008773017, 0.0, 0.0, 0.0, 0.0, 0.0, 0.37983770989879656, 0.20271305336573306, 0.0163926922792914]}\n",
      "MAP:  0.027353067353067355\n",
      "NDCG:  0.07651238473625589\n"
     ]
    },
    {
     "name": "stderr",
     "output_type": "stream",
     "text": [
      "\n"
     ]
    }
   ],
   "source": [
    "scores.append(run_relevance_tests(RELEVANCE_TEST_DATA, pipeline, 10, 0.9, 0.1))\n",
    "print(f'BM25 scores: {scores[9]}')\n",
    "print(\"MAP: \", scores[9]['map'])\n",
    "print(\"NDCG: \", scores[9]['ndcg'])\n",
    "\n",
    "scores.append(run_relevance_tests(RELEVANCE_TEST_DATA, pipeline, 10, 0.5, 0.5))\n",
    "print(f'BM25 scores: {scores[10]}')\n",
    "print(\"MAP: \", scores[10]['map'])\n",
    "print(\"NDCG: \", scores[10]['ndcg'])\n",
    "\n",
    "scores.append(run_relevance_tests(RELEVANCE_TEST_DATA, pipeline, 10, 0.1, 0.9))\n",
    "print(f'BM25 scores: {scores[11]}')\n",
    "print(\"MAP: \", scores[11]['map'])\n",
    "print(\"NDCG: \", scores[11]['ndcg'])"
   ]
  },
  {
   "cell_type": "code",
   "execution_count": 26,
   "metadata": {},
   "outputs": [],
   "source": [
    "overall_scores = []\n",
    "for idx, score in enumerate(scores):\n",
    "    for item in score['map_list']:\n",
    "        overall_scores.append({\n",
    "            'model': idx,\n",
    "            'score': item,\n",
    "            'metric': 'map'\n",
    "        })\n",
    "    for item in score['ndcg_list']:\n",
    "        overall_scores.append({\n",
    "            'model': idx,\n",
    "            'score': item,\n",
    "            'metric': 'ndcg'\n",
    "        })\n",
    "overall_scores = pd.DataFrame(overall_scores)"
   ]
  },
  {
   "cell_type": "code",
   "execution_count": 27,
   "metadata": {},
   "outputs": [
    {
     "data": {
      "text/html": [
       "<div>\n",
       "<style scoped>\n",
       "    .dataframe tbody tr th:only-of-type {\n",
       "        vertical-align: middle;\n",
       "    }\n",
       "\n",
       "    .dataframe tbody tr th {\n",
       "        vertical-align: top;\n",
       "    }\n",
       "\n",
       "    .dataframe thead th {\n",
       "        text-align: right;\n",
       "    }\n",
       "</style>\n",
       "<table border=\"1\" class=\"dataframe\">\n",
       "  <thead>\n",
       "    <tr style=\"text-align: right;\">\n",
       "      <th></th>\n",
       "      <th>model</th>\n",
       "      <th>score</th>\n",
       "      <th>metric</th>\n",
       "    </tr>\n",
       "  </thead>\n",
       "  <tbody>\n",
       "    <tr>\n",
       "      <th>0</th>\n",
       "      <td>0</td>\n",
       "      <td>0.025000</td>\n",
       "      <td>map</td>\n",
       "    </tr>\n",
       "    <tr>\n",
       "      <th>1</th>\n",
       "      <td>0</td>\n",
       "      <td>0.050000</td>\n",
       "      <td>map</td>\n",
       "    </tr>\n",
       "    <tr>\n",
       "      <th>2</th>\n",
       "      <td>0</td>\n",
       "      <td>0.192857</td>\n",
       "      <td>map</td>\n",
       "    </tr>\n",
       "    <tr>\n",
       "      <th>3</th>\n",
       "      <td>0</td>\n",
       "      <td>0.000000</td>\n",
       "      <td>map</td>\n",
       "    </tr>\n",
       "    <tr>\n",
       "      <th>4</th>\n",
       "      <td>0</td>\n",
       "      <td>0.000000</td>\n",
       "      <td>map</td>\n",
       "    </tr>\n",
       "    <tr>\n",
       "      <th>...</th>\n",
       "      <td>...</td>\n",
       "      <td>...</td>\n",
       "      <td>...</td>\n",
       "    </tr>\n",
       "    <tr>\n",
       "      <th>883</th>\n",
       "      <td>11</td>\n",
       "      <td>0.000000</td>\n",
       "      <td>ndcg</td>\n",
       "    </tr>\n",
       "    <tr>\n",
       "      <th>884</th>\n",
       "      <td>11</td>\n",
       "      <td>0.000000</td>\n",
       "      <td>ndcg</td>\n",
       "    </tr>\n",
       "    <tr>\n",
       "      <th>885</th>\n",
       "      <td>11</td>\n",
       "      <td>0.379838</td>\n",
       "      <td>ndcg</td>\n",
       "    </tr>\n",
       "    <tr>\n",
       "      <th>886</th>\n",
       "      <td>11</td>\n",
       "      <td>0.202713</td>\n",
       "      <td>ndcg</td>\n",
       "    </tr>\n",
       "    <tr>\n",
       "      <th>887</th>\n",
       "      <td>11</td>\n",
       "      <td>0.016393</td>\n",
       "      <td>ndcg</td>\n",
       "    </tr>\n",
       "  </tbody>\n",
       "</table>\n",
       "<p>888 rows × 3 columns</p>\n",
       "</div>"
      ],
      "text/plain": [
       "     model     score metric\n",
       "0        0  0.025000    map\n",
       "1        0  0.050000    map\n",
       "2        0  0.192857    map\n",
       "3        0  0.000000    map\n",
       "4        0  0.000000    map\n",
       "..     ...       ...    ...\n",
       "883     11  0.000000   ndcg\n",
       "884     11  0.000000   ndcg\n",
       "885     11  0.379838   ndcg\n",
       "886     11  0.202713   ndcg\n",
       "887     11  0.016393   ndcg\n",
       "\n",
       "[888 rows x 3 columns]"
      ]
     },
     "execution_count": 27,
     "metadata": {},
     "output_type": "execute_result"
    }
   ],
   "source": [
    "overall_scores"
   ]
  },
  {
   "cell_type": "code",
   "execution_count": 34,
   "metadata": {},
   "outputs": [
    {
     "name": "stderr",
     "output_type": "stream",
     "text": [
      "/tmp/ipykernel_15784/2501438673.py:7: UserWarning: set_ticklabels() should only be used with a fixed number of ticks, i.e. after set_ticks() or using a FixedLocator.\n",
      "  plot.set_xticklabels(models_list, rotation=45)\n"
     ]
    },
    {
     "data": {
      "image/png": "[encoded data removed]",
      "text/plain": [
       "<Figure size 640x480 with 1 Axes>"
      ]
     },
     "metadata": {},
     "output_type": "display_data"
    }
   ],
   "source": [
    "plot = sns.barplot(x='model', y='score', hue='metric',\n",
    "                   data=overall_scores, palette='pastel')\n",
    "models_list = ['BM25', 'BM25 + L2R', 'VectorRanker + L2R',\n",
    "               '1, 0.9, 0.1', '1, 0.5, 0.5', '1, 0.1, 0.9',\n",
    "               '5, 0.9, 0.1', '5, 0.5, 0.5', '5, 0.1, 0.9',\n",
    "               '10, 0.9, 0.1', '10, 0.5, 0.5', '10, 0.1, 0.9']\n",
    "plot.set_xticklabels(models_list, rotation=45)\n",
    "plot.set_xlabel('Models')\n",
    "plot.set_ylabel('Score')\n",
    "plot.set_title('MAP and NDCG Scores for Different Models')\n",
    "plt.show()"
   ]
  }
 ],
 "metadata": {
  "kernelspec": {
   "display_name": "SI650",
   "language": "python",
   "name": "python3"
  },
  "language_info": {
   "codemirror_mode": {
    "name": "ipython",
    "version": 3
   },
   "file_extension": ".py",
   "mimetype": "text/x-python",
   "name": "python",
   "nbconvert_exporter": "python",
   "pygments_lexer": "ipython3",
   "version": "3.11.0"
  }
 },
 "nbformat": 4,
 "nbformat_minor": 2
}
