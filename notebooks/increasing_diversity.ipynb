{
 "cells": [
  {
   "cell_type": "code",
   "execution_count": 6,
   "metadata": {},
   "outputs": [],
   "source": [
    "import sys\n",
    "sys.path.append(\"../src\")\n",
    "import pandas as pd\n",
    "from collections import defaultdict\n",
    "from tqdm import tqdm\n",
    "\n",
    "from pipeline import SearchEngine"
   ]
  },
  {
   "cell_type": "code",
   "execution_count": 2,
   "metadata": {},
   "outputs": [],
   "source": [
    "DATA_PATH = \"../data/\"\n",
    "PERSON_ATTRIBUTES_PATH = DATA_PATH + \"person-attributes.csv\" "
   ]
  },
  {
   "cell_type": "code",
   "execution_count": 5,
   "metadata": {},
   "outputs": [],
   "source": [
    "person_attributes_df = pd.read_csv(PERSON_ATTRIBUTES_PATH)\n",
    "attributes_list = person_attributes_df.columns[1:-1].tolist()\n",
    "most_common_labels_10 = defaultdict(list)\n",
    "for attribute in attributes_list:\n",
    "    most_common_labels_10[attribute] = person_attributes_df[attribute].value_counts().index.tolist()[:10]\n",
    "queries = ['person', 'woman', 'teacher', 'role model', 'professional']\n",
    "lambda_list = [1, 0.3, 0.5, 0.7]"
   ]
  },
  {
   "cell_type": "code",
   "execution_count": 4,
   "metadata": {},
   "outputs": [
    {
     "name": "stdout",
     "output_type": "stream",
     "text": [
      "Initializing Search Engine...\n",
      "Loading doc augment dict...\n"
     ]
    },
    {
     "name": "stderr",
     "output_type": "stream",
     "text": [
      "600001it [00:00, 852341.99it/s]\n"
     ]
    },
    {
     "name": "stdout",
     "output_type": "stream",
     "text": [
      "Loading indexes...\n"
     ]
    },
    {
     "name": "stderr",
     "output_type": "stream",
     "text": [
      "100%|██████████| 200000/200000 [02:51<00:00, 1167.77it/s]\n",
      "100%|██████████| 200000/200000 [00:16<00:00, 12109.92it/s]\n"
     ]
    },
    {
     "name": "stdout",
     "output_type": "stream",
     "text": [
      "Loading ranker...\n",
      "Loading categories...\n",
      "Loading recognized categories...\n"
     ]
    },
    {
     "name": "stderr",
     "output_type": "stream",
     "text": [
      "100%|██████████| 200000/200000 [00:00<00:00, 659871.35it/s]\n"
     ]
    },
    {
     "name": "stdout",
     "output_type": "stream",
     "text": [
      "Loading network features...\n"
     ]
    },
    {
     "name": "stderr",
     "output_type": "stream",
     "text": [
      "999842it [00:01, 831354.81it/s]\n"
     ]
    },
    {
     "name": "stdout",
     "output_type": "stream",
     "text": [
      "Loading raw text dict...\n"
     ]
    },
    {
     "name": "stderr",
     "output_type": "stream",
     "text": [
      "9605it [00:00, 1051449.56it/s]\n"
     ]
    },
    {
     "name": "stdout",
     "output_type": "stream",
     "text": [
      "Loading cross encoder scorer...\n",
      "Loading L2R ranker...\n",
      "Training L2R ranker...\n"
     ]
    },
    {
     "name": "stderr",
     "output_type": "stream",
     "text": [
      "9604it [00:00, 757310.36it/s]\n",
      "100%|██████████| 129/129 [03:32<00:00,  1.65s/it]\n"
     ]
    },
    {
     "name": "stdout",
     "output_type": "stream",
     "text": [
      "Training model...\n",
      "[LightGBM] [Info] Auto-choosing row-wise multi-threading, the overhead of testing was 0.014025 seconds.\n",
      "You can set `force_row_wise=true` to remove the overhead.\n",
      "And if memory is not enough, you can set `force_col_wise=true`.\n",
      "[LightGBM] [Info] Total Bins 2390\n",
      "[LightGBM] [Info] Number of data points in the train set: 9604, number of used features: 122\n",
      "Search Engine initialized!\n"
     ]
    }
   ],
   "source": [
    "search_engine = SearchEngine()"
   ]
  },
  {
   "cell_type": "code",
   "execution_count": 8,
   "metadata": {},
   "outputs": [],
   "source": [
    "def rank_all():\n",
    "    overall_ranks = []\n",
    "    for lambda_val in lambda_list:\n",
    "        for query in queries:\n",
    "            res = search_engine.pipeline.query(query, mmr_lambda=lambda_val)\n",
    "            for idx, (id, score) in tqdm(enumerate(res)):\n",
    "                person = person_attributes_df[person_attributes_df['docid'] == id]\n",
    "                if person.empty:\n",
    "                    continue\n",
    "                for attribute in attributes_list:\n",
    "                    if person[attribute].item() in most_common_labels_10[attribute]:\n",
    "                        overall_ranks.append({\n",
    "                            'pipeline': 'lambda=' + str(lambda_val),\n",
    "                            'query': query,\n",
    "                            'attribute': attribute,\n",
    "                            'label': person[attribute].item(),\n",
    "                            'rank': idx + 1\n",
    "                        })\n",
    "    del person_attributes_df\n",
    "    overall_ranks = pd.DataFrame(overall_ranks)\n",
    "    return overall_ranks"
   ]
  },
  {
   "cell_type": "code",
   "execution_count": 9,
   "metadata": {},
   "outputs": [
    {
     "ename": "ValueError",
     "evalue": "74204 is not in list",
     "output_type": "error",
     "traceback": [
      "\u001b[0;31m---------------------------------------------------------------------------\u001b[0m",
      "\u001b[0;31mValueError\u001b[0m                                Traceback (most recent call last)",
      "\u001b[1;32m/home/zim/UMSI/SI650/notebooks/increasing_diversity.ipynb Cell 6\u001b[0m line \u001b[0;36m1\n\u001b[0;32m----> <a href='vscode-notebook-cell:/home/zim/UMSI/SI650/notebooks/increasing_diversity.ipynb#X11sZmlsZQ%3D%3D?line=0'>1</a>\u001b[0m overall_ranks \u001b[39m=\u001b[39m rank_all()\n\u001b[1;32m      <a href='vscode-notebook-cell:/home/zim/UMSI/SI650/notebooks/increasing_diversity.ipynb#X11sZmlsZQ%3D%3D?line=1'>2</a>\u001b[0m overall_ranks\n",
      "\u001b[1;32m/home/zim/UMSI/SI650/notebooks/increasing_diversity.ipynb Cell 6\u001b[0m line \u001b[0;36m5\n\u001b[1;32m      <a href='vscode-notebook-cell:/home/zim/UMSI/SI650/notebooks/increasing_diversity.ipynb#X11sZmlsZQ%3D%3D?line=2'>3</a>\u001b[0m \u001b[39mfor\u001b[39;00m lambda_val \u001b[39min\u001b[39;00m lambda_list:\n\u001b[1;32m      <a href='vscode-notebook-cell:/home/zim/UMSI/SI650/notebooks/increasing_diversity.ipynb#X11sZmlsZQ%3D%3D?line=3'>4</a>\u001b[0m     \u001b[39mfor\u001b[39;00m query \u001b[39min\u001b[39;00m queries:\n\u001b[0;32m----> <a href='vscode-notebook-cell:/home/zim/UMSI/SI650/notebooks/increasing_diversity.ipynb#X11sZmlsZQ%3D%3D?line=4'>5</a>\u001b[0m         res \u001b[39m=\u001b[39m search_engine\u001b[39m.\u001b[39;49mpipeline\u001b[39m.\u001b[39;49mquery(query, mmr_lambda\u001b[39m=\u001b[39;49mlambda_val)\n\u001b[1;32m      <a href='vscode-notebook-cell:/home/zim/UMSI/SI650/notebooks/increasing_diversity.ipynb#X11sZmlsZQ%3D%3D?line=5'>6</a>\u001b[0m         \u001b[39mfor\u001b[39;00m idx, (\u001b[39mid\u001b[39m, score) \u001b[39min\u001b[39;00m tqdm(\u001b[39menumerate\u001b[39m(res)):\n\u001b[1;32m      <a href='vscode-notebook-cell:/home/zim/UMSI/SI650/notebooks/increasing_diversity.ipynb#X11sZmlsZQ%3D%3D?line=6'>7</a>\u001b[0m             person \u001b[39m=\u001b[39m person_attributes_df[person_attributes_df[\u001b[39m'\u001b[39m\u001b[39mdocid\u001b[39m\u001b[39m'\u001b[39m] \u001b[39m==\u001b[39m \u001b[39mid\u001b[39m]\n",
      "File \u001b[0;32m~/UMSI/SI650/notebooks/../src/l2r.py:328\u001b[0m, in \u001b[0;36mL2RRanker.query\u001b[0;34m(self, query, pseudofeedback_num_docs, pseudofeedback_alpha, pseudofeedback_beta, user_id, mmr_lambda, mmr_threshold)\u001b[0m\n\u001b[1;32m    325\u001b[0m \u001b[39mif\u001b[39;00m \u001b[39mself\u001b[39m\u001b[39m.\u001b[39mranker\u001b[39m.\u001b[39m\u001b[39m__class__\u001b[39m\u001b[39m.\u001b[39m\u001b[39m__name__\u001b[39m \u001b[39m==\u001b[39m \u001b[39m'\u001b[39m\u001b[39mVectorRanker\u001b[39m\u001b[39m'\u001b[39m:\n\u001b[1;32m    326\u001b[0m     list_docs \u001b[39m=\u001b[39m [\u001b[39mself\u001b[39m\u001b[39m.\u001b[39mranker\u001b[39m.\u001b[39mrow_to_docid\u001b[39m.\u001b[39mindex(\n\u001b[1;32m    327\u001b[0m         item[\u001b[39m0\u001b[39m]) \u001b[39m+\u001b[39m \u001b[39m1\u001b[39m \u001b[39mfor\u001b[39;00m item \u001b[39min\u001b[39;00m results[:mmr_threshold]]\n\u001b[0;32m--> 328\u001b[0m     document_similarity \u001b[39m=\u001b[39m \u001b[39mself\u001b[39;49m\u001b[39m.\u001b[39;49mranker\u001b[39m.\u001b[39;49mdocument_similarity(list_docs)\n\u001b[1;32m    330\u001b[0m \u001b[39m# TODO (HW5): Run the maximize_mmr function with appropriate arguments\u001b[39;00m\n\u001b[1;32m    331\u001b[0m     results_thres \u001b[39m=\u001b[39m \u001b[39mself\u001b[39m\u001b[39m.\u001b[39mmaximize_mmr(\n\u001b[1;32m    332\u001b[0m         results[:mmr_threshold], document_similarity, list_docs, mmr_lambda)\n",
      "File \u001b[0;32m~/UMSI/SI650/notebooks/../src/vector_ranker.py:139\u001b[0m, in \u001b[0;36mVectorRanker.document_similarity\u001b[0;34m(self, list_docs)\u001b[0m\n\u001b[1;32m    136\u001b[0m \u001b[39mfor\u001b[39;00m i \u001b[39min\u001b[39;00m \u001b[39mrange\u001b[39m(\u001b[39mlen\u001b[39m(list_docs)):\n\u001b[1;32m    137\u001b[0m     \u001b[39mfor\u001b[39;00m j \u001b[39min\u001b[39;00m \u001b[39mrange\u001b[39m(i, \u001b[39mlen\u001b[39m(list_docs)):\n\u001b[1;32m    138\u001b[0m         sim_mat[i][j] \u001b[39m=\u001b[39m util\u001b[39m.\u001b[39mcos_sim(\n\u001b[0;32m--> 139\u001b[0m             \u001b[39mself\u001b[39m\u001b[39m.\u001b[39mencoded_docs[\u001b[39mself\u001b[39;49m\u001b[39m.\u001b[39;49mrow_to_docid\u001b[39m.\u001b[39;49mindex(list_docs[i])],\n\u001b[1;32m    140\u001b[0m             \u001b[39mself\u001b[39m\u001b[39m.\u001b[39mencoded_docs[\u001b[39mself\u001b[39m\u001b[39m.\u001b[39mrow_to_docid\u001b[39m.\u001b[39mindex(list_docs[j])])\n\u001b[1;32m    141\u001b[0m         sim_mat[j][i] \u001b[39m=\u001b[39m sim_mat[i][j]\n\u001b[1;32m    142\u001b[0m \u001b[39mreturn\u001b[39;00m sim_mat\n",
      "\u001b[0;31mValueError\u001b[0m: 74204 is not in list"
     ]
    }
   ],
   "source": [
    "overall_ranks = rank_all()\n",
    "overall_ranks"
   ]
  }
 ],
 "metadata": {
  "kernelspec": {
   "display_name": "SI650",
   "language": "python",
   "name": "python3"
  },
  "language_info": {
   "codemirror_mode": {
    "name": "ipython",
    "version": 3
   },
   "file_extension": ".py",
   "mimetype": "text/x-python",
   "name": "python",
   "nbconvert_exporter": "python",
   "pygments_lexer": "ipython3",
   "version": "3.11.0rc1"
  }
 },
 "nbformat": 4,
 "nbformat_minor": 2
}
