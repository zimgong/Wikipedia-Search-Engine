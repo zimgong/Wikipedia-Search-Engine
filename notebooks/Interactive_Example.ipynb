{
 "cells": [
  {
   "cell_type": "markdown",
   "metadata": {},
   "source": [
    "#### Run this notebook as a sanity check for your implementation"
   ]
  },
  {
   "cell_type": "markdown",
   "metadata": {},
   "source": [
    "### Creating search pipelines for two different ranking strategies.\n",
    "\n",
    "* Pipeline 1: Initial ranking by BM25 with re-ranking by LambdaMART (Cross-encoder feature enabled)\n",
    "\n",
    "* Pipeline 2: Initial ranking by Bi-Encoder vector ranker with re-ranking by LambdaMART (Cross-encoder feature enabled)\n",
    "\n",
    "The corpus for the main index is augmented by doc2query queries"
   ]
  },
  {
   "cell_type": "code",
   "execution_count": 1,
   "metadata": {},
   "outputs": [
    {
     "name": "stderr",
     "output_type": "stream",
     "text": [
      "/home/zim/.virtualenvs/SI650/lib/python3.11/site-packages/tqdm/auto.py:21: TqdmWarning: IProgress not found. Please update jupyter and ipywidgets. See https://ipywidgets.readthedocs.io/en/stable/user_install.html\n",
      "  from .autonotebook import tqdm as notebook_tqdm\n"
     ]
    }
   ],
   "source": [
    "import csv\n",
    "from collections import Counter, defaultdict\n",
    "from tqdm import tqdm\n",
    "import json\n",
    "import jsonlines\n",
    "import numpy as np\n",
    "import gzip\n",
    "import os\n",
    "import pickle\n",
    "import pandas as pd\n",
    "\n",
    "# your modules are imported here\n",
    "from indexing import Indexer, IndexType, BasicInvertedIndex\n",
    "from document_preprocessor import RegexTokenizer, Doc2QueryAugmenter\n",
    "from ranker import Ranker, BM25, CrossEncoderScorer\n",
    "from vector_ranker import VectorRanker\n",
    "from network_features import NetworkFeatures\n",
    "from l2r import L2RFeatureExtractor, L2RRanker\n",
    "from relevance import run_relevance_tests"
   ]
  },
  {
   "cell_type": "code",
   "execution_count": 2,
   "metadata": {},
   "outputs": [],
   "source": [
    "# change these to point to actual file paths\n",
    "DRIVE_PATH = '../data/'\n",
    "CACHE_PATH = '../cache/'\n",
    "STOPWORD_PATH = DRIVE_PATH + 'stopwords.txt'\n",
    "DATASET_PATH = DRIVE_PATH + 'wikipedia_200k_dataset.jsonl.gz'\n",
    "EDGELIST_PATH = DRIVE_PATH + 'edgelist.csv'\n",
    "NETWORK_STATS_PATH = DRIVE_PATH + 'network_stats.csv'\n",
    "DOC2QUERY_PATH = DRIVE_PATH + 'doc2query.csv'\n",
    "MAIN_INDEX = 'main_index_augmented'\n",
    "TITLE_INDEX = 'title_index'\n",
    "RELEVANCE_TRAIN_DATA = DRIVE_PATH + 'hw3_relevance.train.csv'\n",
    "ENCODED_DOCUMENT_EMBEDDINGS_NPY_DATA = DRIVE_PATH + \\\n",
    "    'wiki-200k-vecs.msmarco-MiniLM-L12-cos-v5.npy'\n",
    "RELEVANCE_TEST_DATA = DRIVE_PATH + 'hw3_relevance.test.csv'"
   ]
  },
  {
   "cell_type": "code",
   "execution_count": 3,
   "metadata": {},
   "outputs": [
    {
     "data": {
      "text/plain": [
       "'Stopwords collected 543'"
      ]
     },
     "execution_count": 3,
     "metadata": {},
     "output_type": "execute_result"
    }
   ],
   "source": [
    "# Load in the stopwords\n",
    "\n",
    "stopwords = set()\n",
    "with open(STOPWORD_PATH, 'r', encoding='utf-8') as file:\n",
    "    for stopword in file:\n",
    "        stopwords.add(stopword.strip())\n",
    "f'Stopwords collected {len(stopwords)}'"
   ]
  },
  {
   "cell_type": "code",
   "execution_count": 4,
   "metadata": {},
   "outputs": [
    {
     "data": {
      "text/plain": [
       "'Document categories collected'"
      ]
     },
     "execution_count": 4,
     "metadata": {},
     "output_type": "execute_result"
    }
   ],
   "source": [
    "# Get the list of categories for each page (either compute it or load the pre-computed list)\n",
    "file_path = CACHE_PATH + 'docid_to_categories.pkl'\n",
    "if not os.path.exists(file_path):\n",
    "    docid_to_categories = {}\n",
    "    with gzip.open(DATASET_PATH, 'rt') as file:\n",
    "        for line in tqdm(file, total=200_000):\n",
    "            document = json.loads(line)\n",
    "            docid_to_categories[document['docid']] = document['categories']\n",
    "    pickle.dump(docid_to_categories, open(file_path, 'wb'))\n",
    "else:\n",
    "    docid_to_categories = pickle.load(open(file_path, 'rb'))\n",
    "f'Document categories collected'"
   ]
  },
  {
   "cell_type": "code",
   "execution_count": 5,
   "metadata": {},
   "outputs": [
    {
     "name": "stderr",
     "output_type": "stream",
     "text": [
      "100%|██████████| 200000/200000 [00:00<00:00, 578401.83it/s]\n"
     ]
    },
    {
     "name": "stdout",
     "output_type": "stream",
     "text": [
      "saw 118 categories\n"
     ]
    }
   ],
   "source": [
    "# Get or pre-compute the list of categories at least the minimum number of times (specified in the homework)\n",
    "category_counts = Counter()\n",
    "for cats in tqdm(docid_to_categories.values(), total=len(docid_to_categories)):\n",
    "    for c in cats:\n",
    "        category_counts[c] += 1\n",
    "recognized_categories = set(\n",
    "    [cat for cat, count in category_counts.items() if count >= 1000])\n",
    "print(\"saw %d categories\" % len(recognized_categories))\n",
    "\n",
    "file_path = CACHE_PATH + 'doc_category_info.pkl'\n",
    "if not os.path.exists(file_path):\n",
    "    # Map each document to the smallert set of categories that occur frequently\n",
    "    doc_category_info = {}\n",
    "    for docid, cats in tqdm(docid_to_categories.items(), total=len(docid_to_categories)):\n",
    "        valid_cats = [c for c in cats if c in recognized_categories]\n",
    "        doc_category_info[docid] = valid_cats\n",
    "    pickle.dump(doc_category_info, open(file_path, 'wb'))\n",
    "else:\n",
    "    doc_category_info = pickle.load(open(file_path, 'rb'))"
   ]
  },
  {
   "cell_type": "code",
   "execution_count": 6,
   "metadata": {},
   "outputs": [
    {
     "data": {
      "text/plain": [
       "'Network stats collection 999841'"
      ]
     },
     "execution_count": 6,
     "metadata": {},
     "output_type": "execute_result"
    }
   ],
   "source": [
    "network_features = {}\n",
    "# Get or load the network statistics for the Wikipedia link network\n",
    "\n",
    "if not os.path.exists(NETWORK_STATS_PATH):\n",
    "    nf = NetworkFeatures()\n",
    "    print('loading network')\n",
    "    graph = nf.load_network(EDGELIST_PATH, total_edges=92650947)\n",
    "    print('getting stats')\n",
    "    net_feats_df = nf.get_all_network_statistics(graph)\n",
    "    graph = None\n",
    "    print('Saving')\n",
    "    net_feats_df.to_csv(NETWORK_STATS_PATH, index=False)\n",
    "\n",
    "    print(\"converting to dict format\")\n",
    "    network_features = defaultdict(dict)\n",
    "    for i, row in tqdm(net_feats_df.iterrows(), total=len(net_feats_df)):\n",
    "        for col in ['pagerank', 'hub_score', 'authority_score']:\n",
    "            network_features[row['docid']][col] = row[col]\n",
    "    net_feats_df = None\n",
    "else:\n",
    "    with open(NETWORK_STATS_PATH, 'r', encoding='utf-8') as file:\n",
    "        for idx, line in enumerate(file):\n",
    "            if idx == 0:\n",
    "                continue\n",
    "            else:\n",
    "                # the indexes may change depending on your CSV\n",
    "                splits = line.strip().split(',')\n",
    "                network_features[int(splits[0])] = {\n",
    "                    'pagerank': float(splits[1]),\n",
    "                    'authority_score': float(splits[2]),\n",
    "                    'hub_score': float(splits[3])\n",
    "                }\n",
    "f'Network stats collection {len(network_features)}'"
   ]
  },
  {
   "cell_type": "code",
   "execution_count": 7,
   "metadata": {},
   "outputs": [
    {
     "name": "stderr",
     "output_type": "stream",
     "text": [
      "You are using the default legacy behaviour of the <class 'transformers.models.t5.tokenization_t5.T5Tokenizer'>. This is expected, and simply means that the `legacy` (previous) behavior will be used so nothing changes for you. If you want to use the new behaviour, set `legacy=False`. This should only be set if you understand what it means, and thouroughly read the reason why this was added as explained in https://github.com/huggingface/transformers/pull/24565\n",
      "Special tokens have been added in the vocabulary, make sure the associated word embeddings are fine-tuned or trained.\n"
     ]
    },
    {
     "data": {
      "text/plain": [
       "['who is the creator of the evil within',\n",
       " 'what is evil within?',\n",
       " 'what is the evil within',\n",
       " 'what game was the evil within released on',\n",
       " 'when was the evil within released']"
      ]
     },
     "execution_count": 7,
     "metadata": {},
     "output_type": "execute_result"
    }
   ],
   "source": [
    "d2q = Doc2QueryAugmenter()\n",
    "text = 'The Evil Within is a survival horror video game developed by Tango Gameworks and published by Bethesda Softworks. The game was directed by Resident Evil series creator Shinji Mikami and was released worldwide in October 2014 for PlayStation 3, PlayStation 4, Windows, Xbox 360, and Xbox One.'\n",
    "d2q.get_queries(text, 5)"
   ]
  },
  {
   "cell_type": "code",
   "execution_count": 8,
   "metadata": {},
   "outputs": [
    {
     "name": "stderr",
     "output_type": "stream",
     "text": [
      "600001it [00:00, 719664.83it/s]                             \n"
     ]
    }
   ],
   "source": [
    "doc_augment_dict = defaultdict(lambda: [])\n",
    "with open(DOC2QUERY_PATH, 'r', encoding='utf-8') as file:\n",
    "    dataset = csv.reader(file)\n",
    "    for idx, row in tqdm(enumerate(dataset), total=600_000):\n",
    "        if idx == 0:\n",
    "            continue\n",
    "        doc_augment_dict[int(row[0])].append(row[2])"
   ]
  },
  {
   "cell_type": "code",
   "execution_count": 9,
   "metadata": {},
   "outputs": [
    {
     "name": "stdout",
     "output_type": "stream",
     "text": [
      "Indexing...\n"
     ]
    },
    {
     "name": "stderr",
     "output_type": "stream",
     "text": [
      "100%|██████████| 200000/200000 [02:45<00:00, 1207.13it/s]\n"
     ]
    },
    {
     "name": "stdout",
     "output_type": "stream",
     "text": [
      "Indexing...\n"
     ]
    },
    {
     "name": "stderr",
     "output_type": "stream",
     "text": [
      "100%|██████████| 200000/200000 [00:21<00:00, 9515.95it/s] \n"
     ]
    }
   ],
   "source": [
    "# Load or build Inverted Indices for the documents' main text and titles\n",
    "#\n",
    "# Estiamted times:\n",
    "#    Document text token counting: 4 minutes\n",
    "#    Document text indexing: 5 minutes\n",
    "#    Title text indexing: 30 seconds\n",
    "preprocessor = RegexTokenizer('\\w+')\n",
    "\n",
    "# Creating and saving the index\n",
    "\n",
    "# main_index_path = CACHE_PATH + MAIN_INDEX\n",
    "main_index = Indexer.create_index(\n",
    "    IndexType.InvertedIndex, DATASET_PATH, preprocessor,\n",
    "    stopwords, 50, doc_augment_dict=doc_augment_dict)\n",
    "# main_index.save(main_index_path)\n",
    "\n",
    "# title_index_path = CACHE_PATH + TITLE_INDEX\n",
    "title_index = Indexer.create_index(\n",
    "    IndexType.InvertedIndex, DATASET_PATH, preprocessor,\n",
    "    stopwords, 2, text_key='title')\n",
    "# title_index.save(title_index_path)\n"
   ]
  },
  {
   "cell_type": "code",
   "execution_count": 10,
   "metadata": {},
   "outputs": [
    {
     "name": "stderr",
     "output_type": "stream",
     "text": [
      "9605it [00:00, 55099.14it/s]\n"
     ]
    }
   ],
   "source": [
    "with open('../data/hw3_relevance.train.csv', 'r') as file:\n",
    "    data = csv.reader(file)\n",
    "    train_queries = []\n",
    "    train_docs = []\n",
    "    for idx, row in tqdm(enumerate(data)):\n",
    "        if idx == 0:\n",
    "            continue\n",
    "        if row[0] not in train_queries:\n",
    "            train_queries.append(row[0])\n",
    "        if row[2] not in train_docs:\n",
    "            train_docs.append(row[2])"
   ]
  },
  {
   "cell_type": "code",
   "execution_count": 11,
   "metadata": {},
   "outputs": [],
   "source": [
    "# create the raw text dictionary by going through the wiki dataset\n",
    "# this dictionary should store only the first 500 characters of the raw documents text\n",
    "\n",
    "file_path = CACHE_PATH + 'raw_text_dict_train.pkl'\n",
    "if not os.path.exists(file_path):\n",
    "    raw_text_dict = {}\n",
    "    file = gzip.open(DATASET_PATH, 'rt')\n",
    "    with jsonlines.Reader(file) as reader:\n",
    "        for _ in tqdm(range(200_000)):\n",
    "            try:\n",
    "                data = reader.read()\n",
    "                if str(data['docid']) in train_docs:\n",
    "                    raw_text_dict[int(data['docid'])] = data['text'][:500]\n",
    "            except EOFError:\n",
    "                break\n",
    "    pickle.dump(raw_text_dict, open(file_path, 'wb'))\n",
    "else:\n",
    "    raw_text_dict = pickle.load(open(file_path, 'rb'))"
   ]
  },
  {
   "cell_type": "code",
   "execution_count": 12,
   "metadata": {},
   "outputs": [],
   "source": [
    "# Create the feature extractor. This will be used by both pipelines\n",
    "cescorer = CrossEncoderScorer(raw_text_dict)\n",
    "fe = L2RFeatureExtractor(main_index, title_index, doc_category_info,\n",
    "                         preprocessor, stopwords, recognized_categories,\n",
    "                         network_features, cescorer)"
   ]
  },
  {
   "cell_type": "code",
   "execution_count": 13,
   "metadata": {},
   "outputs": [
    {
     "name": "stdout",
     "output_type": "stream",
     "text": [
      "Loading training data...\n",
      "Training model...\n",
      "[LightGBM] [Info] Auto-choosing row-wise multi-threading, the overhead of testing was 0.001260 seconds.\n",
      "You can set `force_row_wise=true` to remove the overhead.\n",
      "And if memory is not enough, you can set `force_col_wise=true`.\n",
      "[LightGBM] [Info] Total Bins 2641\n",
      "[LightGBM] [Info] Number of data points in the train set: 9604, number of used features: 123\n",
      "Loading training data...\n",
      "Training model...\n",
      "[LightGBM] [Info] Auto-choosing col-wise multi-threading, the overhead of testing was 0.001204 seconds.\n",
      "You can set `force_col_wise=true` to remove the overhead.\n",
      "[LightGBM] [Info] Total Bins 2641\n",
      "[LightGBM] [Info] Number of data points in the train set: 9604, number of used features: 123\n"
     ]
    }
   ],
   "source": [
    "# Create an intial ranker for determining what to re-rank\n",
    "# Use these with a L2RRanker and then train that L2RRanker model\n",
    "#\n",
    "# Estimated time (using 4 cores via n_jobs): 7 minutes\n",
    "\n",
    "# An initial ranking with BM25 with reranking done by LambdaMART optimizing NDCG\n",
    "bm25 = BM25(main_index)\n",
    "ranker = Ranker(main_index, preprocessor, stopwords, bm25)\n",
    "\n",
    "pipeline_1 = L2RRanker(main_index, title_index, preprocessor,\n",
    "                       stopwords, ranker, fe)\n",
    "\n",
    "pipeline_1.train(RELEVANCE_TRAIN_DATA)\n",
    "\n",
    "# An initial ranking with VectorRanker with reranking done by LambdaMART optimizing NDCG\n",
    "with open(ENCODED_DOCUMENT_EMBEDDINGS_NPY_DATA, 'rb') as file:\n",
    "    encoded_docs = np.load(file)\n",
    "\n",
    "vector_ranker = VectorRanker('sentence-transformers/msmarco-MiniLM-L12-cos-v5',\n",
    "                             encoded_docs, list(main_index.document_metadata.keys()))\n",
    "\n",
    "pipeline_2 = L2RRanker(main_index, title_index, preprocessor,\n",
    "                       stopwords, vector_ranker, fe)\n",
    "\n",
    "pipeline_2.train(RELEVANCE_TRAIN_DATA)"
   ]
  },
  {
   "cell_type": "code",
   "execution_count": 14,
   "metadata": {},
   "outputs": [
    {
     "name": "stdout",
     "output_type": "stream",
     "text": [
      "Running relevance tests...\n"
     ]
    },
    {
     "name": "stderr",
     "output_type": "stream",
     "text": [
      "  0%|          | 0/37 [00:00<?, ?it/s]"
     ]
    },
    {
     "name": "stderr",
     "output_type": "stream",
     "text": [
      "100%|██████████| 37/37 [01:37<00:00,  2.63s/it]"
     ]
    },
    {
     "name": "stdout",
     "output_type": "stream",
     "text": [
      "MAP:  [0.025, 0.05, 0.19285714285714287, 0, 0, 0.26, 0.01, 0, 0.02, 0, 0.11333333333333333, 0, 0, 0.0125, 0, 0, 0.03333333333333333, 0, 0.04857142857142857, 0, 0.16666666666666666, 0.11666666666666665, 0, 0, 0.06666666666666667, 0, 0, 0, 0, 0, 0, 0.05, 0, 0, 0, 0.15, 0]\n",
      "NDCG:  [0.16720121225264192, 0.1912049197383063, 0.40771619304648515, 0.0, 0.0, 0.35738444023216115, 0.0586666388908508, 0.0, 0.13279625411320248, 0.0, 0.44115113246165355, 0.04541743105845887, 0.0, 0.0716120549175052, 0.0, 0.06617289012360779, 0.16326880032415683, 0.0, 0.24276828655853022, 0.0, 0.3293683421236114, 0.3403003929241778, 0.0613262049089608, 0.07242198498924948, 0.21928535165731325, 0.0, 0.0, 0.0, 0.054633798952207324, 0.0, 0.0, 0.2578062004518628, 0.0, 0.0, 0.17487644530347446, 0.3040695800485996, 0.13058065054168094]\n",
      "BM25 scores: {'map': 0.03555662805662805, 'ndcg': 0.11594673528699186}\n",
      "MAP:  0.03555662805662805\n",
      "NDCG:  0.11594673528699186\n"
     ]
    },
    {
     "name": "stderr",
     "output_type": "stream",
     "text": [
      "\n"
     ]
    }
   ],
   "source": [
    "scores_ranker = run_relevance_tests(RELEVANCE_TEST_DATA, ranker)\n",
    "print(f'BM25 scores: {scores_ranker}')\n",
    "print(\"MAP: \", scores_ranker['map'])\n",
    "print(\"NDCG: \", scores_ranker['ndcg'])"
   ]
  },
  {
   "cell_type": "code",
   "execution_count": 15,
   "metadata": {},
   "outputs": [
    {
     "name": "stdout",
     "output_type": "stream",
     "text": [
      "Running relevance tests...\n"
     ]
    },
    {
     "name": "stderr",
     "output_type": "stream",
     "text": [
      "  0%|          | 0/37 [00:00<?, ?it/s]Asking to truncate to max_length but no maximum length is provided and the model has no predefined maximum length. Default to no truncation.\n",
      "100%|██████████| 37/37 [02:46<00:00,  4.51s/it]"
     ]
    },
    {
     "name": "stdout",
     "output_type": "stream",
     "text": [
      "MAP:  [0, 0, 0.025, 0.01, 0.05, 0.3571428571428571, 0.014285714285714285, 0, 0.02, 0, 0.0665079365079365, 0, 0, 0, 0, 0.075, 0, 0, 0, 0, 0.1, 0, 0, 0, 0.05, 0, 0, 0.1, 0.014285714285714285, 0, 0, 0.1, 0, 0, 0, 0.1, 0.0125]\n",
      "NDCG:  [0.15044598817525506, 0.024114774059504164, 0.12133927614758865, 0.057290000967676655, 0.32809409741206513, 0.587523106887649, 0.06941992066371505, 0.0, 0.13279625411320248, 0.0, 0.25797972850121437, 0.0, 0.0, 0.0, 0.0, 0.4450994304378661, 0.0, 0.0, 0.0, 0.04462046518914338, 0.21888665798006005, 0.0, 0.04492063315887466, 0.0, 0.20342085232311144, 0.02138681585816852, 0.0, 0.19031326377064925, 0.07531155140665356, 0.0, 0.0, 0.2578062004518628, 0.0, 0.0, 0.453308352082741, 0.20271305336573306, 0.05075020367217313]\n",
      "BM25 scores: {'map': 0.029587087087087086, 'ndcg': 0.10642001693580831}\n",
      "MAP:  0.029587087087087086\n",
      "NDCG:  0.10642001693580831\n"
     ]
    },
    {
     "name": "stderr",
     "output_type": "stream",
     "text": [
      "\n"
     ]
    }
   ],
   "source": [
    "scores_pp1 = run_relevance_tests(RELEVANCE_TEST_DATA, pipeline_1)\n",
    "print(f'BM25 scores: {scores_pp1}')\n",
    "print(\"MAP: \", scores_pp1['map'])\n",
    "print(\"NDCG: \", scores_pp1['ndcg'])"
   ]
  },
  {
   "cell_type": "code",
   "execution_count": 16,
   "metadata": {},
   "outputs": [
    {
     "name": "stdout",
     "output_type": "stream",
     "text": [
      "Running relevance tests...\n"
     ]
    },
    {
     "name": "stderr",
     "output_type": "stream",
     "text": [
      "100%|██████████| 37/37 [03:55<00:00,  6.36s/it]"
     ]
    },
    {
     "name": "stdout",
     "output_type": "stream",
     "text": [
      "MAP:  [0, 0, 0, 0, 0.1, 0.275, 0.0125, 0, 0.02, 0, 0.01111111111111111, 0, 0, 0, 0, 0.1, 0, 0, 0, 0, 0.08333333333333333, 0, 0, 0, 0.1, 0, 0, 0.1, 0, 0, 0, 0, 0, 0, 0, 0.1, 0]\n",
      "NDCG:  [0.05709397913119477, 0.0, 0.0, 0.0, 0.35152534067883506, 0.4377205066724933, 0.06496211865470962, 0.0, 0.14843011901892328, 0.0, 0.11492845531283281, 0.0, 0.0, 0.0, 0.0, 0.31689265655728094, 0.0, 0.0, 0.0, 0.0, 0.30356357608583323, 0.0, 0.0, 0.0, 0.20342085232311144, 0.0, 0.0, 0.19031326377064925, 0.0, 0.0, 0.0, 0.0, 0.0, 0.0, 0.37983770989879656, 0.20271305336573306, 0.03806265275412985]\n",
      "BM25 scores: {'map': 0.02437687687687688, 'ndcg': 0.07593146714120333}\n",
      "MAP:  0.02437687687687688\n",
      "NDCG:  0.07593146714120333\n"
     ]
    },
    {
     "name": "stderr",
     "output_type": "stream",
     "text": [
      "\n"
     ]
    }
   ],
   "source": [
    "scores_pp2 = run_relevance_tests(RELEVANCE_TEST_DATA, pipeline_2)\n",
    "print(f'BM25 scores: {scores_pp2}')\n",
    "print(\"MAP: \", scores_pp2['map'])\n",
    "print(\"NDCG: \", scores_pp2['ndcg'])"
   ]
  },
  {
   "cell_type": "code",
   "execution_count": 22,
   "metadata": {},
   "outputs": [],
   "source": [
    "ranker_map = [0.025, 0.05, 0.19285714285714287, 0, 0, 0.26, 0.01, 0, 0.02, 0, 0.11333333333333333, 0, 0, 0.0125, 0, 0, 0.03333333333333333, 0, 0.04857142857142857, 0, 0.16666666666666666, 0.11666666666666665, 0, 0, 0.06666666666666667, 0, 0, 0, 0, 0, 0, 0.05, 0, 0, 0, 0.15, 0]\n",
    "ranker_ndcg = [0.16720121225264192, 0.1912049197383063, 0.40771619304648515, 0.0, 0.0, 0.35738444023216115, 0.0586666388908508, 0.0, 0.13279625411320248, 0.0, 0.44115113246165355, 0.04541743105845887, 0.0, 0.0716120549175052, 0.0, 0.06617289012360779, 0.16326880032415683, 0.0, 0.24276828655853022, 0.0, 0.3293683421236114, 0.3403003929241778, 0.0613262049089608, 0.07242198498924948, 0.21928535165731325, 0.0, 0.0, 0.0, 0.054633798952207324, 0.0, 0.0, 0.2578062004518628, 0.0, 0.0, 0.17487644530347446, 0.3040695800485996, 0.13058065054168094]\n",
    "pp1_map = [0, 0, 0.025, 0.01, 0.05, 0.3571428571428571, 0.014285714285714285, 0, 0.02, 0, 0.0665079365079365, 0, 0, 0, 0, 0.075, 0, 0, 0, 0, 0.1, 0, 0, 0, 0.05, 0, 0, 0.1, 0.014285714285714285, 0, 0, 0.1, 0, 0, 0, 0.1, 0.0125]\n",
    "pp1_ndcg = [0.15044598817525506, 0.024114774059504164, 0.12133927614758865, 0.057290000967676655, 0.32809409741206513, 0.587523106887649, 0.06941992066371505, 0.0, 0.13279625411320248, 0.0, 0.25797972850121437, 0.0, 0.0, 0.0, 0.0, 0.4450994304378661, 0.0, 0.0, 0.0, 0.04462046518914338, 0.21888665798006005, 0.0, 0.04492063315887466, 0.0, 0.20342085232311144, 0.02138681585816852, 0.0, 0.19031326377064925, 0.07531155140665356, 0.0, 0.0, 0.2578062004518628, 0.0, 0.0, 0.453308352082741, 0.20271305336573306, 0.05075020367217313]\n",
    "pp2_map = [0, 0, 0, 0, 0.1, 0.275, 0.0125, 0, 0.02, 0, 0.01111111111111111, 0, 0, 0, 0, 0.1, 0, 0, 0, 0, 0.08333333333333333, 0, 0, 0, 0.1, 0, 0, 0.1, 0, 0, 0, 0, 0, 0, 0, 0.1, 0]\n",
    "pp2_ndcg = [0.05709397913119477, 0.0, 0.0, 0.0, 0.35152534067883506, 0.4377205066724933, 0.06496211865470962, 0.0, 0.14843011901892328, 0.0, 0.11492845531283281, 0.0, 0.0, 0.0, 0.0, 0.31689265655728094, 0.0, 0.0, 0.0, 0.0, 0.30356357608583323, 0.0, 0.0, 0.0, 0.20342085232311144, 0.0, 0.0, 0.19031326377064925, 0.0, 0.0, 0.0, 0.0, 0.0, 0.0, 0.37983770989879656, 0.20271305336573306, 0.03806265275412985]"
   ]
  },
  {
   "cell_type": "code",
   "execution_count": 23,
   "metadata": {},
   "outputs": [],
   "source": [
    "df_data = []\n",
    "for data in ranker_map:\n",
    "    df_data.append((data, 'BM25', 'MAP'))\n",
    "for data in ranker_ndcg:\n",
    "    df_data.append((data, 'BM25', 'NDCG'))\n",
    "for data in pp1_map:\n",
    "    df_data.append((data, 'BM25+l2r', 'MAP'))\n",
    "for data in pp1_ndcg:\n",
    "    df_data.append((data, 'BM25+l2r', 'NDCG'))\n",
    "for data in pp2_map:\n",
    "    df_data.append((data, 'Vector+l2r', 'MAP'))\n",
    "for data in pp2_ndcg:\n",
    "    df_data.append((data, 'Vector+l2r', 'NDCG'))"
   ]
  },
  {
   "cell_type": "code",
   "execution_count": 28,
   "metadata": {},
   "outputs": [],
   "source": [
    "df = pd.DataFrame(df_data, columns=['score', 'model', 'metric'])"
   ]
  },
  {
   "cell_type": "code",
   "execution_count": 25,
   "metadata": {},
   "outputs": [],
   "source": [
    "import seaborn as sns"
   ]
  },
  {
   "cell_type": "code",
   "execution_count": 29,
   "metadata": {},
   "outputs": [
    {
     "data": {
      "text/plain": [
       "Text(0.5, 1.0, 'MAP@10 and NDCG@10 across Queries')"
      ]
     },
     "execution_count": 29,
     "metadata": {},
     "output_type": "execute_result"
    },
    {
     "data": {
      "image/png": "[encoded data removed]",
      "text/plain": [
       "<Figure size 640x480 with 1 Axes>"
      ]
     },
     "metadata": {},
     "output_type": "display_data"
    }
   ],
   "source": [
    "plot = sns.boxplot(data=df, x=\"model\", y=\"score\", hue=\"metric\", palette=\"pastel\")\n",
    "plot.set_xlabel('Model')\n",
    "plot.set_ylabel('MAP')\n",
    "plot.set_title('MAP@10 and NDCG@10 across Queries')"
   ]
  },
  {
   "cell_type": "code",
   "execution_count": 17,
   "metadata": {},
   "outputs": [],
   "source": [
    "import requests\n",
    "\n",
    "def get_wiki_title(page_id:int):\n",
    "    url = (\n",
    "        'https://en.wikipedia.org/w/api.php'\n",
    "        '?action=query'\n",
    "        '&prop=info'\n",
    "        '&inprop=subjectid'\n",
    "        f'&pageids={page_id}' \n",
    "        '&format=json')\n",
    "    json_response = requests.get(url).json()\n",
    "    return json_response['query']['pages'][str(page_id)]['title']"
   ]
  },
  {
   "cell_type": "markdown",
   "metadata": {},
   "source": [
    "After this point, students may have varying answers and observations depending on their implementation and their own features. So, your mileage may vary (YMMV)"
   ]
  },
  {
   "cell_type": "markdown",
   "metadata": {},
   "source": [
    "### Example Query: 'How did the Mongols conquer China?'\n",
    "\n",
    "This query should lead to pages about the different Mongolian invasions of China (there were multiple)."
   ]
  },
  {
   "cell_type": "code",
   "execution_count": 18,
   "metadata": {},
   "outputs": [
    {
     "ename": "TypeError",
     "evalue": "tuple indices must be integers or slices, not str",
     "output_type": "error",
     "traceback": [
      "\u001b[0;31m---------------------------------------------------------------------------\u001b[0m",
      "\u001b[0;31mTypeError\u001b[0m                                 Traceback (most recent call last)",
      "\u001b[1;32m/home/zim/UMSI/SI650/Homeworks/hw3/Interactive_Example.ipynb Cell 22\u001b[0m line \u001b[0;36m2\n\u001b[1;32m      <a href='vscode-notebook-cell:/home/zim/UMSI/SI650/Homeworks/hw3/Interactive_Example.ipynb#X30sZmlsZQ%3D%3D?line=0'>1</a>\u001b[0m results \u001b[39m=\u001b[39m pipeline_1\u001b[39m.\u001b[39mquery(\u001b[39m'\u001b[39m\u001b[39mHow did the Mongols conquer China?\u001b[39m\u001b[39m'\u001b[39m)[:\u001b[39m10\u001b[39m]\n\u001b[0;32m----> <a href='vscode-notebook-cell:/home/zim/UMSI/SI650/Homeworks/hw3/Interactive_Example.ipynb#X30sZmlsZQ%3D%3D?line=1'>2</a>\u001b[0m [(get_wiki_title(result[\u001b[39m'\u001b[39;49m\u001b[39mdocid\u001b[39;49m\u001b[39m'\u001b[39;49m]),result[\u001b[39m'\u001b[39;49m\u001b[39mscore\u001b[39;49m\u001b[39m'\u001b[39;49m]) \u001b[39mfor\u001b[39;49;00m result \u001b[39min\u001b[39;49;00m results]\n",
      "\u001b[1;32m/home/zim/UMSI/SI650/Homeworks/hw3/Interactive_Example.ipynb Cell 22\u001b[0m line \u001b[0;36m2\n\u001b[1;32m      <a href='vscode-notebook-cell:/home/zim/UMSI/SI650/Homeworks/hw3/Interactive_Example.ipynb#X30sZmlsZQ%3D%3D?line=0'>1</a>\u001b[0m results \u001b[39m=\u001b[39m pipeline_1\u001b[39m.\u001b[39mquery(\u001b[39m'\u001b[39m\u001b[39mHow did the Mongols conquer China?\u001b[39m\u001b[39m'\u001b[39m)[:\u001b[39m10\u001b[39m]\n\u001b[0;32m----> <a href='vscode-notebook-cell:/home/zim/UMSI/SI650/Homeworks/hw3/Interactive_Example.ipynb#X30sZmlsZQ%3D%3D?line=1'>2</a>\u001b[0m [(get_wiki_title(result[\u001b[39m'\u001b[39;49m\u001b[39mdocid\u001b[39;49m\u001b[39m'\u001b[39;49m]),result[\u001b[39m'\u001b[39m\u001b[39mscore\u001b[39m\u001b[39m'\u001b[39m]) \u001b[39mfor\u001b[39;00m result \u001b[39min\u001b[39;00m results]\n",
      "\u001b[0;31mTypeError\u001b[0m: tuple indices must be integers or slices, not str"
     ]
    }
   ],
   "source": [
    "results = pipeline_1.query('How did the Mongols conquer China?')[:10]\n",
    "[(get_wiki_title(result['docid']),result['score']) for result in results]"
   ]
  },
  {
   "cell_type": "code",
   "execution_count": null,
   "metadata": {},
   "outputs": [
    {
     "data": {
      "text/plain": [
       "[('Mongol conquest of China', 0.15629720162936594),\n",
       " ('Proto-Mongols', 0.15511421967326222),\n",
       " ('Mongols in China', 0.14553224535134274),\n",
       " ('Mongols', 0.14553224535134274),\n",
       " ('Foreign relations of imperial China', 0.12819452617017554),\n",
       " ('Mongol invasions and conquests', 0.0943725611209057),\n",
       " ('Mongol conquest of the Song dynasty', 0.0943725611209057),\n",
       " ('Mongol military tactics and organization', 0.0943725611209057),\n",
       " ('Mongol conquest of Western Xia', 0.0943725611209057),\n",
       " ('Mongol invasion of the Khwarazmian Empire', 0.0943725611209057)]"
      ]
     },
     "execution_count": 25,
     "metadata": {},
     "output_type": "execute_result"
    }
   ],
   "source": [
    "results = pipeline_2.query('How did the Mongols conquer China?')[:10]\n",
    "[(get_wiki_title(result['docid']),result['score']) for result in results]"
   ]
  },
  {
   "cell_type": "markdown",
   "metadata": {},
   "source": [
    "**The first result is pretty similar**\n",
    "\n",
    "But the difference is in what lies after maybe the second rank. You would see that the vector ranker would provide better pages overall in the top ranks of the fetched document list (in our experience the vector ranker pipeline focused more on conquests by mongols rather than details about mongols themselves)."
   ]
  },
  {
   "cell_type": "markdown",
   "metadata": {},
   "source": [
    "### Example of a query where both the pipelines perform badly\n",
    "\n",
    "**top 10 video games** "
   ]
  },
  {
   "cell_type": "code",
   "execution_count": null,
   "metadata": {},
   "outputs": [
    {
     "data": {
      "text/plain": [
       "[('Sports video game', 0.14553224535134274),\n",
       " ('2016 in video games', 0.1379328933058825),\n",
       " ('2013 in video games', 0.1379328933058825),\n",
       " ('Breakout (video game)', 0.11870755503749891),\n",
       " ('2010s in video games', 0.11432081795467411),\n",
       " ('Centipede (video game)', 0.11101319980279584),\n",
       " ('Tile-based video game', 0.11101319980279584),\n",
       " ('Night Driver (video game)', 0.11101319980279584),\n",
       " ('Battlezone (1980 video game)', 0.11101319980279584),\n",
       " ('Video games in the United States', 0.11059455510698667)]"
      ]
     },
     "execution_count": 26,
     "metadata": {},
     "output_type": "execute_result"
    }
   ],
   "source": [
    "results = pipeline_1.query('top 10 video games')[:10]\n",
    "[(get_wiki_title(result['docid']),result['score']) for result in results]"
   ]
  },
  {
   "cell_type": "code",
   "execution_count": null,
   "metadata": {},
   "outputs": [
    {
     "data": {
      "text/plain": [
       "[('Sports video game', 0.14553224535134274),\n",
       " ('2016 in video games', 0.1379328933058825),\n",
       " ('2013 in video games', 0.1379328933058825),\n",
       " ('Breakout (video game)', 0.11870755503749891),\n",
       " ('2010s in video games', 0.11432081795467411),\n",
       " ('Centipede (video game)', 0.11101319980279584),\n",
       " ('Tile-based video game', 0.11101319980279584),\n",
       " ('Night Driver (video game)', 0.11101319980279584),\n",
       " ('Battlezone (1980 video game)', 0.11101319980279584),\n",
       " ('Video games in the United States', 0.11059455510698667)]"
      ]
     },
     "execution_count": 27,
     "metadata": {},
     "output_type": "execute_result"
    }
   ],
   "source": [
    "results = pipeline_2.query('top 10 video games')[:10]\n",
    "[(get_wiki_title(result['docid']),result['score']) for result in results]"
   ]
  },
  {
   "cell_type": "markdown",
   "metadata": {},
   "source": [
    "Looking at the results, it doesn't seem that the search engine does very well on this query. Why might that be? Could you think of ways to handle these types of queries? What about other queries where the search engine might just not be very good?"
   ]
  }
 ],
 "metadata": {
  "kernelspec": {
   "display_name": "base",
   "language": "python",
   "name": "python3"
  },
  "language_info": {
   "codemirror_mode": {
    "name": "ipython",
    "version": 3
   },
   "file_extension": ".py",
   "mimetype": "text/x-python",
   "name": "python",
   "nbconvert_exporter": "python",
   "pygments_lexer": "ipython3",
   "version": "3.11.0rc1"
  },
  "orig_nbformat": 4
 },
 "nbformat": 4,
 "nbformat_minor": 2
}
